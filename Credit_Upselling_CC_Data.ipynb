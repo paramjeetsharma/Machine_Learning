{
  "nbformat": 4,
  "nbformat_minor": 0,
  "metadata": {
    "kernelspec": {
      "display_name": "Python 3",
      "language": "python",
      "name": "python3"
    },
    "language_info": {
      "codemirror_mode": {
        "name": "ipython",
        "version": 3
      },
      "file_extension": ".py",
      "mimetype": "text/x-python",
      "name": "python",
      "nbconvert_exporter": "python",
      "pygments_lexer": "ipython3",
      "version": "3.7.7"
    },
    "colab": {
      "name": "Credit_Upselling_CC_Data.ipynb",
      "provenance": [],
      "include_colab_link": true
    }
  },
  "cells": [
    {
      "cell_type": "markdown",
      "metadata": {
        "id": "view-in-github",
        "colab_type": "text"
      },
      "source": [
        "<a href=\"https://colab.research.google.com/github/paramjeetsharma/Machine_Learning/blob/master/Credit_Upselling_CC_Data.ipynb\" target=\"_parent\"><img src=\"https://colab.research.google.com/assets/colab-badge.svg\" alt=\"Open In Colab\"/></a>"
      ]
    },
    {
      "cell_type": "markdown",
      "metadata": {
        "id": "2O2PpREqxO2M",
        "colab_type": "text"
      },
      "source": [
        "https://www.kaggle.com/aritrase/crosssell-target-the-right-customer/activity"
      ]
    },
    {
      "cell_type": "code",
      "metadata": {
        "id": "ryb_c82yxO2O",
        "colab_type": "code",
        "colab": {
          "base_uri": "https://localhost:8080/",
          "height": 72
        },
        "outputId": "c4cd6150-89a0-40b0-860f-178cd4290d5c"
      },
      "source": [
        "import pandas as pd\n",
        "import numpy as np\n",
        "import seaborn as sns\n",
        "%matplotlib inline\n",
        "import matplotlib.pyplot as plt\n",
        "from scipy.stats import uniform, powerlaw, logistic"
      ],
      "execution_count": 1,
      "outputs": [
        {
          "output_type": "stream",
          "text": [
            "/usr/local/lib/python3.6/dist-packages/statsmodels/tools/_testing.py:19: FutureWarning: pandas.util.testing is deprecated. Use the functions in the public API at pandas.testing instead.\n",
            "  import pandas.util.testing as tm\n"
          ],
          "name": "stderr"
        }
      ]
    },
    {
      "cell_type": "code",
      "metadata": {
        "id": "lofmfDD6yB2H",
        "colab_type": "code",
        "colab": {
          "base_uri": "https://localhost:8080/",
          "height": 35
        },
        "outputId": "0f1fbd1a-d699-4f35-8896-71711fea259a"
      },
      "source": [
        "from google.colab import drive\n",
        "drive.mount('/gdrive')"
      ],
      "execution_count": 2,
      "outputs": [
        {
          "output_type": "stream",
          "text": [
            "Drive already mounted at /gdrive; to attempt to forcibly remount, call drive.mount(\"/gdrive\", force_remount=True).\n"
          ],
          "name": "stdout"
        }
      ]
    },
    {
      "cell_type": "code",
      "metadata": {
        "id": "TkJPocdAxO2X",
        "colab_type": "code",
        "colab": {
          "base_uri": "https://localhost:8080/",
          "height": 72
        },
        "outputId": "44c2b90e-d4ea-4081-d636-cdffb1aa74f4"
      },
      "source": [
        "df=pd.read_csv('/gdrive/My Drive/train.csv')"
      ],
      "execution_count": 3,
      "outputs": [
        {
          "output_type": "stream",
          "text": [
            "/usr/local/lib/python3.6/dist-packages/IPython/core/interactiveshell.py:2718: DtypeWarning: Columns (8,11,12,13,14,15,16,17,18,19,21,23,26,28,29,30,32,82,83,85,91,269,325,326,327,328) have mixed types.Specify dtype option on import or set low_memory=False.\n",
            "  interactivity=interactivity, compiler=compiler, result=result)\n"
          ],
          "name": "stderr"
        }
      ]
    },
    {
      "cell_type": "code",
      "metadata": {
        "id": "olDJRIwXy1kK",
        "colab_type": "code",
        "colab": {
          "base_uri": "https://localhost:8080/",
          "height": 251
        },
        "outputId": "d65e6163-9752-4575-d930-179d0b5d8d4c"
      },
      "source": [
        "df.head()"
      ],
      "execution_count": 4,
      "outputs": [
        {
          "output_type": "execute_result",
          "data": {
            "text/html": [
              "<div>\n",
              "<style scoped>\n",
              "    .dataframe tbody tr th:only-of-type {\n",
              "        vertical-align: middle;\n",
              "    }\n",
              "\n",
              "    .dataframe tbody tr th {\n",
              "        vertical-align: top;\n",
              "    }\n",
              "\n",
              "    .dataframe thead th {\n",
              "        text-align: right;\n",
              "    }\n",
              "</style>\n",
              "<table border=\"1\" class=\"dataframe\">\n",
              "  <thead>\n",
              "    <tr style=\"text-align: right;\">\n",
              "      <th></th>\n",
              "      <th>CUSTOMER_ID</th>\n",
              "      <th>ACT_TYPE</th>\n",
              "      <th>GENDER</th>\n",
              "      <th>LEGAL_ENTITY</th>\n",
              "      <th>OCCUP_ALL_NEW</th>\n",
              "      <th>AGE</th>\n",
              "      <th>N_CASA_MAX_BALANCE_MTD</th>\n",
              "      <th>N_CASA_MIN_BALANCE_MTD</th>\n",
              "      <th>BL_TAG</th>\n",
              "      <th>TWL_TAG</th>\n",
              "      <th>PL_TAG</th>\n",
              "      <th>AL_CNC_TAG</th>\n",
              "      <th>AGRI_TAG</th>\n",
              "      <th>CE_TAG</th>\n",
              "      <th>CV_TAG</th>\n",
              "      <th>EDU_TAG</th>\n",
              "      <th>TL_TAG</th>\n",
              "      <th>OTHER_LOANS_TAG</th>\n",
              "      <th>LAP_TAG</th>\n",
              "      <th>LAS_TAG</th>\n",
              "      <th>EEG_TAG</th>\n",
              "      <th>BBG_TAG</th>\n",
              "      <th>HL_TAG</th>\n",
              "      <th>GL_TAG</th>\n",
              "      <th>AL_CLOSED</th>\n",
              "      <th>PL_CLOSED</th>\n",
              "      <th>BL_CLOSED</th>\n",
              "      <th>TWL_CLOSED</th>\n",
              "      <th>CV_CLOSED</th>\n",
              "      <th>LAP_CLOSED</th>\n",
              "      <th>LAS_CLOSED</th>\n",
              "      <th>EEG_CLOSED</th>\n",
              "      <th>BBG_CLOSED</th>\n",
              "      <th>GL_CLOSED</th>\n",
              "      <th>CC_HOLD_MON_03</th>\n",
              "      <th>CC_HOLD_MON_02</th>\n",
              "      <th>CC_HOLD_MON_01</th>\n",
              "      <th>CC_ACTIVE_MON_03</th>\n",
              "      <th>CC_ACTIVE_MON_02</th>\n",
              "      <th>CC_ACTIVE_MON_01</th>\n",
              "      <th>...</th>\n",
              "      <th>CLOSED_DATE</th>\n",
              "      <th>CRED_NEED_SCORE</th>\n",
              "      <th>CC_SPEND_MON_03_ENT</th>\n",
              "      <th>CC_SPEND_MON_03_MED</th>\n",
              "      <th>CC_SPEND_MON_03_HMD</th>\n",
              "      <th>CC_SPEND_MON_03_HBY</th>\n",
              "      <th>CC_SPEND_MON_03_CARE</th>\n",
              "      <th>CC_SPEND_MON_03_TRL</th>\n",
              "      <th>CC_SPEND_MON_03_RST</th>\n",
              "      <th>CC_SPEND_MON_03_JER</th>\n",
              "      <th>CC_SPEND_MON_03_HTL</th>\n",
              "      <th>CC_SPEND_MON_03_ATM</th>\n",
              "      <th>CARD_AUTOMOBILE_MON_01</th>\n",
              "      <th>CARD_HOTEL_MON_01</th>\n",
              "      <th>CARD_JEWELLERY_MON_01</th>\n",
              "      <th>CARD_RESTAURANT_MON_01</th>\n",
              "      <th>CARD_TRAVEL_MON_01</th>\n",
              "      <th>CARD_PRSNL_CARE_MON_01</th>\n",
              "      <th>CARD_HOBBY_MON_01</th>\n",
              "      <th>CARD_HOME_DECOR_MON_01</th>\n",
              "      <th>CARD_MEDICAL_MON_01</th>\n",
              "      <th>CARD_ENTMNT_MON_01</th>\n",
              "      <th>SAL_MON_01</th>\n",
              "      <th>SAL_MON_02</th>\n",
              "      <th>SAL_MON_03</th>\n",
              "      <th>TOP_100_CORP</th>\n",
              "      <th>TOP_800_CORP</th>\n",
              "      <th>TOP_CORP_TAG</th>\n",
              "      <th>EOP_MON_02</th>\n",
              "      <th>EOP_MON_03</th>\n",
              "      <th>CREDIT_ACT</th>\n",
              "      <th>DEBIT_ACT</th>\n",
              "      <th>CEL_TAG</th>\n",
              "      <th>EL_TAG</th>\n",
              "      <th>AGL_TAG</th>\n",
              "      <th>CVL_TAG</th>\n",
              "      <th>AL_TAG</th>\n",
              "      <th>HL_EMI</th>\n",
              "      <th>SCRUB_EMI</th>\n",
              "      <th>RESPONDERS</th>\n",
              "    </tr>\n",
              "  </thead>\n",
              "  <tbody>\n",
              "    <tr>\n",
              "      <th>0</th>\n",
              "      <td>385793</td>\n",
              "      <td>CSA</td>\n",
              "      <td>M</td>\n",
              "      <td>INDIVIDUAL</td>\n",
              "      <td>SALARIED</td>\n",
              "      <td>21</td>\n",
              "      <td>0.00</td>\n",
              "      <td>0.00</td>\n",
              "      <td>NaN</td>\n",
              "      <td>NaN</td>\n",
              "      <td>NaN</td>\n",
              "      <td>NaN</td>\n",
              "      <td>NaN</td>\n",
              "      <td>NaN</td>\n",
              "      <td>NaN</td>\n",
              "      <td>NaN</td>\n",
              "      <td>NaN</td>\n",
              "      <td>NaN</td>\n",
              "      <td>NaN</td>\n",
              "      <td>NaN</td>\n",
              "      <td>NaN</td>\n",
              "      <td>NaN</td>\n",
              "      <td>NaN</td>\n",
              "      <td>NaN</td>\n",
              "      <td>NaN</td>\n",
              "      <td>NaN</td>\n",
              "      <td>NaN</td>\n",
              "      <td>NaN</td>\n",
              "      <td>NaN</td>\n",
              "      <td>NaN</td>\n",
              "      <td>NaN</td>\n",
              "      <td>NaN</td>\n",
              "      <td>NaN</td>\n",
              "      <td>NaN</td>\n",
              "      <td>NaN</td>\n",
              "      <td>NaN</td>\n",
              "      <td>NaN</td>\n",
              "      <td>NaN</td>\n",
              "      <td>NaN</td>\n",
              "      <td>NaN</td>\n",
              "      <td>...</td>\n",
              "      <td>NaN</td>\n",
              "      <td>NaN</td>\n",
              "      <td>NaN</td>\n",
              "      <td>NaN</td>\n",
              "      <td>NaN</td>\n",
              "      <td>NaN</td>\n",
              "      <td>NaN</td>\n",
              "      <td>NaN</td>\n",
              "      <td>NaN</td>\n",
              "      <td>NaN</td>\n",
              "      <td>NaN</td>\n",
              "      <td>NaN</td>\n",
              "      <td>N</td>\n",
              "      <td>N</td>\n",
              "      <td>N</td>\n",
              "      <td>N</td>\n",
              "      <td>N</td>\n",
              "      <td>N</td>\n",
              "      <td>N</td>\n",
              "      <td>N</td>\n",
              "      <td>N</td>\n",
              "      <td>N</td>\n",
              "      <td>0.0</td>\n",
              "      <td>0.0</td>\n",
              "      <td>0.0</td>\n",
              "      <td>NaN</td>\n",
              "      <td>NaN</td>\n",
              "      <td>NONE</td>\n",
              "      <td>0.00</td>\n",
              "      <td>0.00</td>\n",
              "      <td>NaN</td>\n",
              "      <td>NaN</td>\n",
              "      <td>NaN</td>\n",
              "      <td>NaN</td>\n",
              "      <td>NaN</td>\n",
              "      <td>NaN</td>\n",
              "      <td>NaN</td>\n",
              "      <td>NaN</td>\n",
              "      <td>0.000000</td>\n",
              "      <td>N</td>\n",
              "    </tr>\n",
              "    <tr>\n",
              "      <th>1</th>\n",
              "      <td>286891</td>\n",
              "      <td>CSA</td>\n",
              "      <td>M</td>\n",
              "      <td>INDIVIDUAL</td>\n",
              "      <td>SALARIED</td>\n",
              "      <td>23</td>\n",
              "      <td>8243.77</td>\n",
              "      <td>7.77</td>\n",
              "      <td>NaN</td>\n",
              "      <td>NaN</td>\n",
              "      <td>NaN</td>\n",
              "      <td>NaN</td>\n",
              "      <td>NaN</td>\n",
              "      <td>NaN</td>\n",
              "      <td>NaN</td>\n",
              "      <td>NaN</td>\n",
              "      <td>NaN</td>\n",
              "      <td>NaN</td>\n",
              "      <td>NaN</td>\n",
              "      <td>NaN</td>\n",
              "      <td>NaN</td>\n",
              "      <td>NaN</td>\n",
              "      <td>NaN</td>\n",
              "      <td>NaN</td>\n",
              "      <td>NaN</td>\n",
              "      <td>NaN</td>\n",
              "      <td>NaN</td>\n",
              "      <td>NaN</td>\n",
              "      <td>NaN</td>\n",
              "      <td>NaN</td>\n",
              "      <td>NaN</td>\n",
              "      <td>NaN</td>\n",
              "      <td>NaN</td>\n",
              "      <td>NaN</td>\n",
              "      <td>NaN</td>\n",
              "      <td>NaN</td>\n",
              "      <td>NaN</td>\n",
              "      <td>NaN</td>\n",
              "      <td>NaN</td>\n",
              "      <td>NaN</td>\n",
              "      <td>...</td>\n",
              "      <td>NaN</td>\n",
              "      <td>NaN</td>\n",
              "      <td>NaN</td>\n",
              "      <td>NaN</td>\n",
              "      <td>NaN</td>\n",
              "      <td>NaN</td>\n",
              "      <td>NaN</td>\n",
              "      <td>NaN</td>\n",
              "      <td>NaN</td>\n",
              "      <td>NaN</td>\n",
              "      <td>NaN</td>\n",
              "      <td>NaN</td>\n",
              "      <td>N</td>\n",
              "      <td>N</td>\n",
              "      <td>N</td>\n",
              "      <td>N</td>\n",
              "      <td>N</td>\n",
              "      <td>N</td>\n",
              "      <td>N</td>\n",
              "      <td>N</td>\n",
              "      <td>N</td>\n",
              "      <td>N</td>\n",
              "      <td>10754.0</td>\n",
              "      <td>8733.0</td>\n",
              "      <td>17154.0</td>\n",
              "      <td>NaN</td>\n",
              "      <td>NaN</td>\n",
              "      <td>NONE</td>\n",
              "      <td>3016.77</td>\n",
              "      <td>3.02</td>\n",
              "      <td>Y</td>\n",
              "      <td>Y</td>\n",
              "      <td>NaN</td>\n",
              "      <td>NaN</td>\n",
              "      <td>NaN</td>\n",
              "      <td>NaN</td>\n",
              "      <td>NaN</td>\n",
              "      <td>NaN</td>\n",
              "      <td>0.000000</td>\n",
              "      <td>N</td>\n",
              "    </tr>\n",
              "    <tr>\n",
              "      <th>2</th>\n",
              "      <td>108751</td>\n",
              "      <td>CSA</td>\n",
              "      <td>M</td>\n",
              "      <td>INDIVIDUAL</td>\n",
              "      <td>SALARIED</td>\n",
              "      <td>41</td>\n",
              "      <td>26515.00</td>\n",
              "      <td>0.00</td>\n",
              "      <td>NaN</td>\n",
              "      <td>NaN</td>\n",
              "      <td>NaN</td>\n",
              "      <td>NaN</td>\n",
              "      <td>NaN</td>\n",
              "      <td>NaN</td>\n",
              "      <td>NaN</td>\n",
              "      <td>NaN</td>\n",
              "      <td>NaN</td>\n",
              "      <td>NaN</td>\n",
              "      <td>NaN</td>\n",
              "      <td>NaN</td>\n",
              "      <td>NaN</td>\n",
              "      <td>NaN</td>\n",
              "      <td>NaN</td>\n",
              "      <td>NaN</td>\n",
              "      <td>NaN</td>\n",
              "      <td>NaN</td>\n",
              "      <td>NaN</td>\n",
              "      <td>NaN</td>\n",
              "      <td>NaN</td>\n",
              "      <td>NaN</td>\n",
              "      <td>NaN</td>\n",
              "      <td>NaN</td>\n",
              "      <td>NaN</td>\n",
              "      <td>NaN</td>\n",
              "      <td>NaN</td>\n",
              "      <td>NaN</td>\n",
              "      <td>NaN</td>\n",
              "      <td>NaN</td>\n",
              "      <td>NaN</td>\n",
              "      <td>NaN</td>\n",
              "      <td>...</td>\n",
              "      <td>NaN</td>\n",
              "      <td>NaN</td>\n",
              "      <td>NaN</td>\n",
              "      <td>NaN</td>\n",
              "      <td>NaN</td>\n",
              "      <td>NaN</td>\n",
              "      <td>NaN</td>\n",
              "      <td>NaN</td>\n",
              "      <td>NaN</td>\n",
              "      <td>NaN</td>\n",
              "      <td>NaN</td>\n",
              "      <td>NaN</td>\n",
              "      <td>N</td>\n",
              "      <td>N</td>\n",
              "      <td>N</td>\n",
              "      <td>N</td>\n",
              "      <td>N</td>\n",
              "      <td>N</td>\n",
              "      <td>N</td>\n",
              "      <td>N</td>\n",
              "      <td>N</td>\n",
              "      <td>N</td>\n",
              "      <td>0.0</td>\n",
              "      <td>0.0</td>\n",
              "      <td>0.0</td>\n",
              "      <td>NaN</td>\n",
              "      <td>NaN</td>\n",
              "      <td>NONE</td>\n",
              "      <td>9999.00</td>\n",
              "      <td>14858.75</td>\n",
              "      <td>Y</td>\n",
              "      <td>Y</td>\n",
              "      <td>NaN</td>\n",
              "      <td>NaN</td>\n",
              "      <td>NaN</td>\n",
              "      <td>NaN</td>\n",
              "      <td>NaN</td>\n",
              "      <td>NaN</td>\n",
              "      <td>0.000000</td>\n",
              "      <td>N</td>\n",
              "    </tr>\n",
              "    <tr>\n",
              "      <th>3</th>\n",
              "      <td>278651</td>\n",
              "      <td>CSA</td>\n",
              "      <td>M</td>\n",
              "      <td>INDIVIDUAL</td>\n",
              "      <td>SALARIED</td>\n",
              "      <td>28</td>\n",
              "      <td>65917.28</td>\n",
              "      <td>8270.28</td>\n",
              "      <td>NaN</td>\n",
              "      <td>NaN</td>\n",
              "      <td>Y</td>\n",
              "      <td>NaN</td>\n",
              "      <td>NaN</td>\n",
              "      <td>NaN</td>\n",
              "      <td>NaN</td>\n",
              "      <td>NaN</td>\n",
              "      <td>NaN</td>\n",
              "      <td>NaN</td>\n",
              "      <td>NaN</td>\n",
              "      <td>NaN</td>\n",
              "      <td>NaN</td>\n",
              "      <td>NaN</td>\n",
              "      <td>NaN</td>\n",
              "      <td>NaN</td>\n",
              "      <td>NaN</td>\n",
              "      <td>NaN</td>\n",
              "      <td>NaN</td>\n",
              "      <td>NaN</td>\n",
              "      <td>NaN</td>\n",
              "      <td>NaN</td>\n",
              "      <td>NaN</td>\n",
              "      <td>NaN</td>\n",
              "      <td>NaN</td>\n",
              "      <td>NaN</td>\n",
              "      <td>Y</td>\n",
              "      <td>Y</td>\n",
              "      <td>Y</td>\n",
              "      <td>Y</td>\n",
              "      <td>NaN</td>\n",
              "      <td>Y</td>\n",
              "      <td>...</td>\n",
              "      <td>NaN</td>\n",
              "      <td>0.247852</td>\n",
              "      <td>NaN</td>\n",
              "      <td>NaN</td>\n",
              "      <td>2558.0</td>\n",
              "      <td>NaN</td>\n",
              "      <td>NaN</td>\n",
              "      <td>NaN</td>\n",
              "      <td>NaN</td>\n",
              "      <td>8200.0</td>\n",
              "      <td>NaN</td>\n",
              "      <td>NaN</td>\n",
              "      <td>N</td>\n",
              "      <td>N</td>\n",
              "      <td>Y</td>\n",
              "      <td>N</td>\n",
              "      <td>N</td>\n",
              "      <td>Y</td>\n",
              "      <td>N</td>\n",
              "      <td>Y</td>\n",
              "      <td>Y</td>\n",
              "      <td>N</td>\n",
              "      <td>38952.0</td>\n",
              "      <td>15200.0</td>\n",
              "      <td>19605.0</td>\n",
              "      <td>NaN</td>\n",
              "      <td>NaN</td>\n",
              "      <td>NONE</td>\n",
              "      <td>27163.10</td>\n",
              "      <td>49675.27</td>\n",
              "      <td>Y</td>\n",
              "      <td>Y</td>\n",
              "      <td>NaN</td>\n",
              "      <td>NaN</td>\n",
              "      <td>NaN</td>\n",
              "      <td>NaN</td>\n",
              "      <td>NaN</td>\n",
              "      <td>NaN</td>\n",
              "      <td>0.000000</td>\n",
              "      <td>N</td>\n",
              "    </tr>\n",
              "    <tr>\n",
              "      <th>4</th>\n",
              "      <td>23637</td>\n",
              "      <td>CSA</td>\n",
              "      <td>M</td>\n",
              "      <td>INDIVIDUAL</td>\n",
              "      <td>SALARIED</td>\n",
              "      <td>34</td>\n",
              "      <td>22260.94</td>\n",
              "      <td>6060.94</td>\n",
              "      <td>NaN</td>\n",
              "      <td>NaN</td>\n",
              "      <td>NaN</td>\n",
              "      <td>NaN</td>\n",
              "      <td>NaN</td>\n",
              "      <td>NaN</td>\n",
              "      <td>NaN</td>\n",
              "      <td>NaN</td>\n",
              "      <td>NaN</td>\n",
              "      <td>NaN</td>\n",
              "      <td>NaN</td>\n",
              "      <td>NaN</td>\n",
              "      <td>NaN</td>\n",
              "      <td>NaN</td>\n",
              "      <td>NaN</td>\n",
              "      <td>NaN</td>\n",
              "      <td>NaN</td>\n",
              "      <td>NaN</td>\n",
              "      <td>NaN</td>\n",
              "      <td>NaN</td>\n",
              "      <td>NaN</td>\n",
              "      <td>NaN</td>\n",
              "      <td>NaN</td>\n",
              "      <td>NaN</td>\n",
              "      <td>NaN</td>\n",
              "      <td>NaN</td>\n",
              "      <td>Y</td>\n",
              "      <td>Y</td>\n",
              "      <td>Y</td>\n",
              "      <td>Y</td>\n",
              "      <td>Y</td>\n",
              "      <td>Y</td>\n",
              "      <td>...</td>\n",
              "      <td>NaN</td>\n",
              "      <td>NaN</td>\n",
              "      <td>NaN</td>\n",
              "      <td>NaN</td>\n",
              "      <td>NaN</td>\n",
              "      <td>NaN</td>\n",
              "      <td>NaN</td>\n",
              "      <td>NaN</td>\n",
              "      <td>NaN</td>\n",
              "      <td>NaN</td>\n",
              "      <td>NaN</td>\n",
              "      <td>NaN</td>\n",
              "      <td>N</td>\n",
              "      <td>N</td>\n",
              "      <td>N</td>\n",
              "      <td>N</td>\n",
              "      <td>N</td>\n",
              "      <td>N</td>\n",
              "      <td>N</td>\n",
              "      <td>N</td>\n",
              "      <td>Y</td>\n",
              "      <td>N</td>\n",
              "      <td>0.0</td>\n",
              "      <td>0.0</td>\n",
              "      <td>0.0</td>\n",
              "      <td>NaN</td>\n",
              "      <td>NaN</td>\n",
              "      <td>NONE</td>\n",
              "      <td>21065.87</td>\n",
              "      <td>983.87</td>\n",
              "      <td>Y</td>\n",
              "      <td>Y</td>\n",
              "      <td>NaN</td>\n",
              "      <td>NaN</td>\n",
              "      <td>NaN</td>\n",
              "      <td>NaN</td>\n",
              "      <td>NaN</td>\n",
              "      <td>NaN</td>\n",
              "      <td>251.758794</td>\n",
              "      <td>N</td>\n",
              "    </tr>\n",
              "  </tbody>\n",
              "</table>\n",
              "<p>5 rows × 333 columns</p>\n",
              "</div>"
            ],
            "text/plain": [
              "   CUSTOMER_ID ACT_TYPE GENDER  ... HL_EMI   SCRUB_EMI  RESPONDERS\n",
              "0       385793      CSA      M  ...    NaN    0.000000           N\n",
              "1       286891      CSA      M  ...    NaN    0.000000           N\n",
              "2       108751      CSA      M  ...    NaN    0.000000           N\n",
              "3       278651      CSA      M  ...    NaN    0.000000           N\n",
              "4        23637      CSA      M  ...    NaN  251.758794           N\n",
              "\n",
              "[5 rows x 333 columns]"
            ]
          },
          "metadata": {
            "tags": []
          },
          "execution_count": 4
        }
      ]
    },
    {
      "cell_type": "code",
      "metadata": {
        "id": "iGrcmRC8xO2f",
        "colab_type": "code",
        "colab": {}
      },
      "source": [
        "df.replace(['',' ','NULL'],np.nan,inplace=True)"
      ],
      "execution_count": 0,
      "outputs": []
    },
    {
      "cell_type": "code",
      "metadata": {
        "id": "y0MTwaxZxO2m",
        "colab_type": "code",
        "colab": {}
      },
      "source": [
        "df.dropna(thresh=df.shape[0]*0.8,how='all',axis=1,inplace=True)"
      ],
      "execution_count": 0,
      "outputs": []
    },
    {
      "cell_type": "code",
      "metadata": {
        "id": "LB75dkQExO2s",
        "colab_type": "code",
        "colab": {
          "base_uri": "https://localhost:8080/",
          "height": 35
        },
        "outputId": "eac33611-be08-4402-990c-3099893ee211"
      },
      "source": [
        "df.shape"
      ],
      "execution_count": 8,
      "outputs": [
        {
          "output_type": "execute_result",
          "data": {
            "text/plain": [
              "(300000, 49)"
            ]
          },
          "metadata": {
            "tags": []
          },
          "execution_count": 8
        }
      ]
    },
    {
      "cell_type": "code",
      "metadata": {
        "id": "YuJJi4s1xO2x",
        "colab_type": "code",
        "colab": {
          "base_uri": "https://localhost:8080/",
          "height": 884
        },
        "outputId": "b4fa0dc7-0bd2-44a3-b79f-6e77a38b2fd7"
      },
      "source": [
        "df.isnull().sum()"
      ],
      "execution_count": 9,
      "outputs": [
        {
          "output_type": "execute_result",
          "data": {
            "text/plain": [
              "CUSTOMER_ID                   0\n",
              "ACT_TYPE                      0\n",
              "GENDER                       87\n",
              "LEGAL_ENTITY                  0\n",
              "OCCUP_ALL_NEW                 0\n",
              "AGE                           0\n",
              "N_CASA_MAX_BALANCE_MTD        0\n",
              "N_CASA_MIN_BALANCE_MTD        0\n",
              "CC_HOLD                       0\n",
              "CC_ACTIVE                     0\n",
              "DC_HOLD                       0\n",
              "DC_ACTIVE                     0\n",
              "COC_ELIGIBLE                  0\n",
              "EOP_BAL_MON_01                0\n",
              "AMB_MON_04                 5622\n",
              "AMB_MON_01                    0\n",
              "AMB_MON_02                  992\n",
              "AMB_MON_03                 2778\n",
              "FINANCE_MON_01                0\n",
              "JOBS_MON_01                   0\n",
              "LIFESTYLE_MON_01              0\n",
              "INMON_01KET_MON_01            0\n",
              "TRAVEL_MON_01                 0\n",
              "CHANNEL_CLICK_DISP            0\n",
              "DESIGNATION_FINAL             0\n",
              "TOP14_CITY                    0\n",
              "TOP9_CITY                     0\n",
              "PL2CC_ELIGIBLE                0\n",
              "NEFT_CC_CATEGORY              0\n",
              "NEFT_DC_CATEGORY              0\n",
              "TPT_DC_CATEGORY_MON_01        0\n",
              "TPT_CC_CATEGORY_MON_01        0\n",
              "IMPS_CC_CATEGORY_MON_01       0\n",
              "ZIP_CODE_FINAL             2147\n",
              "CARD_AUTOMOBILE_MON_01        0\n",
              "CARD_HOTEL_MON_01             0\n",
              "CARD_JEWELLERY_MON_01         0\n",
              "CARD_RESTAURANT_MON_01        0\n",
              "CARD_TRAVEL_MON_01            0\n",
              "CARD_PRSNL_CARE_MON_01        0\n",
              "CARD_HOBBY_MON_01             0\n",
              "CARD_HOME_DECOR_MON_01        0\n",
              "CARD_MEDICAL_MON_01           0\n",
              "CARD_ENTMNT_MON_01            0\n",
              "TOP_CORP_TAG                  0\n",
              "EOP_MON_02                  989\n",
              "EOP_MON_03                 2768\n",
              "SCRUB_EMI                     0\n",
              "RESPONDERS                    0\n",
              "dtype: int64"
            ]
          },
          "metadata": {
            "tags": []
          },
          "execution_count": 9
        }
      ]
    },
    {
      "cell_type": "code",
      "metadata": {
        "id": "sG8K6YJhxO21",
        "colab_type": "code",
        "colab": {}
      },
      "source": [
        "cols = df.columns"
      ],
      "execution_count": 0,
      "outputs": []
    },
    {
      "cell_type": "code",
      "metadata": {
        "id": "82mQXCwbxO29",
        "colab_type": "code",
        "colab": {}
      },
      "source": [
        "num_cols = df._get_numeric_data().columns"
      ],
      "execution_count": 0,
      "outputs": []
    },
    {
      "cell_type": "code",
      "metadata": {
        "id": "Bg8IyLjdxO3F",
        "colab_type": "code",
        "colab": {}
      },
      "source": [
        "cat_cols=list(set(cols) - set(num_cols))"
      ],
      "execution_count": 0,
      "outputs": []
    },
    {
      "cell_type": "code",
      "metadata": {
        "id": "GeDe0AewxO3N",
        "colab_type": "code",
        "colab": {}
      },
      "source": [
        "num_cols=list(num_cols)\n",
        "num_cols.remove(\"CUSTOMER_ID\")"
      ],
      "execution_count": 0,
      "outputs": []
    },
    {
      "cell_type": "code",
      "metadata": {
        "id": "Nynj_jBIxO3T",
        "colab_type": "code",
        "colab": {
          "base_uri": "https://localhost:8080/",
          "height": 1000
        },
        "outputId": "a0d80ea8-f24e-4891-bd85-b6d388029fa4"
      },
      "source": [
        "for i, col in enumerate(df[num_cols]):\n",
        "   plt.figure(i)\n",
        "   sns.distplot(df[col].dropna(), hist=True,label=col, rug=True,fit=uniform )"
      ],
      "execution_count": 14,
      "outputs": [
        {
          "output_type": "display_data",
          "data": {
            "image/png": "[encoded data removed]",
            "text/plain": [
              "<Figure size 432x288 with 1 Axes>"
            ]
          },
          "metadata": {
            "tags": []
          }
        },
        {
          "output_type": "display_data",
          "data": {
            "image/png": "[encoded data removed]",
            "text/plain": [
              "<Figure size 432x288 with 1 Axes>"
            ]
          },
          "metadata": {
            "tags": []
          }
        },
        {
          "output_type": "display_data",
          "data": {
            "image/png": "[encoded data removed]",
            "text/plain": [
              "<Figure size 432x288 with 1 Axes>"
            ]
          },
          "metadata": {
            "tags": []
          }
        },
        {
          "output_type": "display_data",
          "data": {
            "image/png": "[encoded data removed]",
            "text/plain": [
              "<Figure size 432x288 with 1 Axes>"
            ]
          },
          "metadata": {
            "tags": []
          }
        },
        {
          "output_type": "display_data",
          "data": {
            "image/png": "[encoded data removed]",
            "text/plain": [
              "<Figure size 432x288 with 1 Axes>"
            ]
          },
          "metadata": {
            "tags": []
          }
        },
        {
          "output_type": "display_data",
          "data": {
            "image/png": "[encoded data removed]",
            "text/plain": [
              "<Figure size 432x288 with 1 Axes>"
            ]
          },
          "metadata": {
            "tags": []
          }
        },
        {
          "output_type": "display_data",
          "data": {
            "image/png": "[encoded data removed]",
            "text/plain": [
              "<Figure size 432x288 with 1 Axes>"
            ]
          },
          "metadata": {
            "tags": []
          }
        },
        {
          "output_type": "display_data",
          "data": {
            "image/png": "[encoded data removed]",
            "text/plain": [
              "<Figure size 432x288 with 1 Axes>"
            ]
          },
          "metadata": {
            "tags": []
          }
        },
        {
          "output_type": "display_data",
          "data": {
            "image/png": "[encoded data removed]",
            "text/plain": [
              "<Figure size 432x288 with 1 Axes>"
            ]
          },
          "metadata": {
            "tags": []
          }
        },
        {
          "output_type": "display_data",
          "data": {
            "image/png": "[encoded data removed]",
            "text/plain": [
              "<Figure size 432x288 with 1 Axes>"
            ]
          },
          "metadata": {
            "tags": []
          }
        },
        {
          "output_type": "display_data",
          "data": {
            "image/png": "[encoded data removed]",
            "text/plain": [
              "<Figure size 432x288 with 1 Axes>"
            ]
          },
          "metadata": {
            "tags": []
          }
        },
        {
          "output_type": "display_data",
          "data": {
            "image/png": "[encoded data removed]",
            "text/plain": [
              "<Figure size 432x288 with 1 Axes>"
            ]
          },
          "metadata": {
            "tags": []
          }
        },
        {
          "output_type": "display_data",
          "data": {
            "image/png": "[encoded data removed]",
            "text/plain": [
              "<Figure size 432x288 with 1 Axes>"
            ]
          },
          "metadata": {
            "tags": []
          }
        }
      ]
    },
    {
      "cell_type": "code",
      "metadata": {
        "id": "UTikEtZlxO3b",
        "colab_type": "code",
        "colab": {
          "base_uri": "https://localhost:8080/",
          "height": 1000
        },
        "outputId": "be4eb4b6-8c3e-4c9e-f71b-fe41b3fe2c9a"
      },
      "source": [
        "for i, col in enumerate(df[cat_cols]):\n",
        "   plt.figure(i)\n",
        "   sns.countplot(df[col],color='gray')"
      ],
      "execution_count": 15,
      "outputs": [
        {
          "output_type": "stream",
          "text": [
            "/usr/local/lib/python3.6/dist-packages/ipykernel_launcher.py:2: RuntimeWarning: More than 20 figures have been opened. Figures created through the pyplot interface (`matplotlib.pyplot.figure`) are retained until explicitly closed and may consume too much memory. (To control this warning, see the rcParam `figure.max_open_warning`).\n",
            "  \n"
          ],
          "name": "stderr"
        },
        {
          "output_type": "display_data",
          "data": {
            "image/png": "[encoded data removed]",
            "text/plain": [
              "<Figure size 432x288 with 1 Axes>"
            ]
          },
          "metadata": {
            "tags": []
          }
        },
        {
          "output_type": "display_data",
          "data": {
            "image/png": "[encoded data removed]",
            "text/plain": [
              "<Figure size 432x288 with 1 Axes>"
            ]
          },
          "metadata": {
            "tags": []
          }
        },
        {
          "output_type": "display_data",
          "data": {
            "image/png": "[encoded data removed]",
            "text/plain": [
              "<Figure size 432x288 with 1 Axes>"
            ]
          },
          "metadata": {
            "tags": []
          }
        },
        {
          "output_type": "display_data",
          "data": {
            "image/png": "[encoded data removed]",
            "text/plain": [
              "<Figure size 432x288 with 1 Axes>"
            ]
          },
          "metadata": {
            "tags": []
          }
        },
        {
          "output_type": "display_data",
          "data": {
            "image/png": "[encoded data removed]",
            "text/plain": [
              "<Figure size 432x288 with 1 Axes>"
            ]
          },
          "metadata": {
            "tags": []
          }
        },
        {
          "output_type": "display_data",
          "data": {
            "image/png": "[encoded data removed]",
            "text/plain": [
              "<Figure size 432x288 with 1 Axes>"
            ]
          },
          "metadata": {
            "tags": []
          }
        },
        {
          "output_type": "display_data",
          "data": {
            "image/png": "[encoded data removed]",
            "text/plain": [
              "<Figure size 432x288 with 1 Axes>"
            ]
          },
          "metadata": {
            "tags": []
          }
        },
        {
          "output_type": "display_data",
          "data": {
            "image/png": "[encoded data removed]",
            "text/plain": [
              "<Figure size 432x288 with 1 Axes>"
            ]
          },
          "metadata": {
            "tags": []
          }
        },
        {
          "output_type": "display_data",
          "data": {
            "image/png": "[encoded data removed]",
            "text/plain": [
              "<Figure size 432x288 with 1 Axes>"
            ]
          },
          "metadata": {
            "tags": []
          }
        },
        {
          "output_type": "display_data",
          "data": {
            "image/png": "[encoded data removed]",
            "text/plain": [
              "<Figure size 432x288 with 1 Axes>"
            ]
          },
          "metadata": {
            "tags": []
          }
        },
        {
          "output_type": "display_data",
          "data": {
            "image/png": "[encoded data removed]",
            "text/plain": [
              "<Figure size 432x288 with 1 Axes>"
            ]
          },
          "metadata": {
            "tags": []
          }
        },
        {
          "output_type": "display_data",
          "data": {
            "image/png": "[encoded data removed]",
            "text/plain": [
              "<Figure size 432x288 with 1 Axes>"
            ]
          },
          "metadata": {
            "tags": []
          }
        },
        {
          "output_type": "display_data",
          "data": {
            "image/png": "[encoded data removed]",
            "text/plain": [
              "<Figure size 432x288 with 1 Axes>"
            ]
          },
          "metadata": {
            "tags": []
          }
        },
        {
          "output_type": "display_data",
          "data": {
            "image/png": "[encoded data removed]",
            "text/plain": [
              "<Figure size 432x288 with 1 Axes>"
            ]
          },
          "metadata": {
            "tags": []
          }
        },
        {
          "output_type": "display_data",
          "data": {
            "image/png": "[encoded data removed]",
            "text/plain": [
              "<Figure size 432x288 with 1 Axes>"
            ]
          },
          "metadata": {
            "tags": []
          }
        },
        {
          "output_type": "display_data",
          "data": {
            "image/png": "[encoded data removed]",
            "text/plain": [
              "<Figure size 432x288 with 1 Axes>"
            ]
          },
          "metadata": {
            "tags": []
          }
        },
        {
          "output_type": "display_data",
          "data": {
            "image/png": "[encoded data removed]",
            "text/plain": [
              "<Figure size 432x288 with 1 Axes>"
            ]
          },
          "metadata": {
            "tags": []
          }
        },
        {
          "output_type": "display_data",
          "data": {
            "image/png": "[encoded data removed]",
            "text/plain": [
              "<Figure size 432x288 with 1 Axes>"
            ]
          },
          "metadata": {
            "tags": []
          }
        },
        {
          "output_type": "display_data",
          "data": {
            "image/png": "[encoded data removed]",
            "text/plain": [
              "<Figure size 432x288 with 1 Axes>"
            ]
          },
          "metadata": {
            "tags": []
          }
        },
        {
          "output_type": "display_data",
          "data": {
            "image/png": "[encoded data removed]",
            "text/plain": [
              "<Figure size 432x288 with 1 Axes>"
            ]
          },
          "metadata": {
            "tags": []
          }
        },
        {
          "output_type": "display_data",
          "data": {
            "image/png": "[encoded data removed]",
            "text/plain": [
              "<Figure size 432x288 with 1 Axes>"
            ]
          },
          "metadata": {
            "tags": []
          }
        },
        {
          "output_type": "display_data",
          "data": {
            "image/png": "[encoded data removed]",
            "text/plain": [
              "<Figure size 432x288 with 1 Axes>"
            ]
          },
          "metadata": {
            "tags": []
          }
        },
        {
          "output_type": "display_data",
          "data": {
            "image/png": "[encoded data removed]",
            "text/plain": [
              "<Figure size 432x288 with 1 Axes>"
            ]
          },
          "metadata": {
            "tags": []
          }
        },
        {
          "output_type": "display_data",
          "data": {
            "image/png": "[encoded data removed]",
            "text/plain": [
              "<Figure size 432x288 with 1 Axes>"
            ]
          },
          "metadata": {
            "tags": []
          }
        },
        {
          "output_type": "display_data",
          "data": {
            "image/png": "[encoded data removed]",
            "text/plain": [
              "<Figure size 432x288 with 1 Axes>"
            ]
          },
          "metadata": {
            "tags": []
          }
        },
        {
          "output_type": "display_data",
          "data": {
            "image/png": "[encoded data removed]",
            "text/plain": [
              "<Figure size 432x288 with 1 Axes>"
            ]
          },
          "metadata": {
            "tags": []
          }
        },
        {
          "output_type": "display_data",
          "data": {
            "image/png": "[encoded data removed]",
            "text/plain": [
              "<Figure size 432x288 with 1 Axes>"
            ]
          },
          "metadata": {
            "tags": []
          }
        },
        {
          "output_type": "display_data",
          "data": {
            "image/png": "[encoded data removed]",
            "text/plain": [
              "<Figure size 432x288 with 1 Axes>"
            ]
          },
          "metadata": {
            "tags": []
          }
        },
        {
          "output_type": "display_data",
          "data": {
            "image/png": "[encoded data removed]",
            "text/plain": [
              "<Figure size 432x288 with 1 Axes>"
            ]
          },
          "metadata": {
            "tags": []
          }
        },
        {
          "output_type": "display_data",
          "data": {
            "image/png": "[encoded data removed]",
            "text/plain": [
              "<Figure size 432x288 with 1 Axes>"
            ]
          },
          "metadata": {
            "tags": []
          }
        },
        {
          "output_type": "display_data",
          "data": {
            "image/png": "[encoded data removed]",
            "text/plain": [
              "<Figure size 432x288 with 1 Axes>"
            ]
          },
          "metadata": {
            "tags": []
          }
        },
        {
          "output_type": "display_data",
          "data": {
            "image/png": "[encoded data removed]",
            "text/plain": [
              "<Figure size 432x288 with 1 Axes>"
            ]
          },
          "metadata": {
            "tags": []
          }
        },
        {
          "output_type": "display_data",
          "data": {
            "image/png": "[encoded data removed]",
            "text/plain": [
              "<Figure size 432x288 with 1 Axes>"
            ]
          },
          "metadata": {
            "tags": []
          }
        },
        {
          "output_type": "display_data",
          "data": {
            "image/png": "[encoded data removed]",
            "text/plain": [
              "<Figure size 432x288 with 1 Axes>"
            ]
          },
          "metadata": {
            "tags": []
          }
        },
        {
          "output_type": "display_data",
          "data": {
            "image/png": "[encoded data removed]",
            "text/plain": [
              "<Figure size 432x288 with 1 Axes>"
            ]
          },
          "metadata": {
            "tags": []
          }
        }
      ]
    },
    {
      "cell_type": "code",
      "metadata": {
        "id": "0HhTdumvxO3g",
        "colab_type": "code",
        "colab": {
          "base_uri": "https://localhost:8080/",
          "height": 447
        },
        "outputId": "f0f40d05-0f4b-4367-a6fa-1b8e28ea1bdf"
      },
      "source": [
        "\n",
        "df[num_cols].describe().transpose()"
      ],
      "execution_count": 17,
      "outputs": [
        {
          "output_type": "execute_result",
          "data": {
            "text/html": [
              "<div>\n",
              "<style scoped>\n",
              "    .dataframe tbody tr th:only-of-type {\n",
              "        vertical-align: middle;\n",
              "    }\n",
              "\n",
              "    .dataframe tbody tr th {\n",
              "        vertical-align: top;\n",
              "    }\n",
              "\n",
              "    .dataframe thead th {\n",
              "        text-align: right;\n",
              "    }\n",
              "</style>\n",
              "<table border=\"1\" class=\"dataframe\">\n",
              "  <thead>\n",
              "    <tr style=\"text-align: right;\">\n",
              "      <th></th>\n",
              "      <th>count</th>\n",
              "      <th>mean</th>\n",
              "      <th>std</th>\n",
              "      <th>min</th>\n",
              "      <th>25%</th>\n",
              "      <th>50%</th>\n",
              "      <th>75%</th>\n",
              "      <th>max</th>\n",
              "    </tr>\n",
              "  </thead>\n",
              "  <tbody>\n",
              "    <tr>\n",
              "      <th>AGE</th>\n",
              "      <td>300000.0</td>\n",
              "      <td>34.111603</td>\n",
              "      <td>14.981995</td>\n",
              "      <td>21.00</td>\n",
              "      <td>26.00</td>\n",
              "      <td>31.000</td>\n",
              "      <td>38.000000</td>\n",
              "      <td>217.00</td>\n",
              "    </tr>\n",
              "    <tr>\n",
              "      <th>N_CASA_MAX_BALANCE_MTD</th>\n",
              "      <td>300000.0</td>\n",
              "      <td>34420.476661</td>\n",
              "      <td>177738.981986</td>\n",
              "      <td>-1019282.58</td>\n",
              "      <td>8.00</td>\n",
              "      <td>11066.630</td>\n",
              "      <td>34286.407500</td>\n",
              "      <td>80026590.72</td>\n",
              "    </tr>\n",
              "    <tr>\n",
              "      <th>N_CASA_MIN_BALANCE_MTD</th>\n",
              "      <td>300000.0</td>\n",
              "      <td>10432.440376</td>\n",
              "      <td>47066.016085</td>\n",
              "      <td>-2681018.01</td>\n",
              "      <td>0.00</td>\n",
              "      <td>72.235</td>\n",
              "      <td>4432.057500</td>\n",
              "      <td>4638099.45</td>\n",
              "    </tr>\n",
              "    <tr>\n",
              "      <th>COC_ELIGIBLE</th>\n",
              "      <td>300000.0</td>\n",
              "      <td>0.104987</td>\n",
              "      <td>0.306537</td>\n",
              "      <td>0.00</td>\n",
              "      <td>0.00</td>\n",
              "      <td>0.000</td>\n",
              "      <td>0.000000</td>\n",
              "      <td>1.00</td>\n",
              "    </tr>\n",
              "    <tr>\n",
              "      <th>EOP_BAL_MON_01</th>\n",
              "      <td>300000.0</td>\n",
              "      <td>23082.951515</td>\n",
              "      <td>76349.271447</td>\n",
              "      <td>-2675529.86</td>\n",
              "      <td>4.00</td>\n",
              "      <td>2048.625</td>\n",
              "      <td>20934.487500</td>\n",
              "      <td>6738965.72</td>\n",
              "    </tr>\n",
              "    <tr>\n",
              "      <th>AMB_MON_04</th>\n",
              "      <td>294378.0</td>\n",
              "      <td>20597.589876</td>\n",
              "      <td>61134.342963</td>\n",
              "      <td>-2415101.18</td>\n",
              "      <td>3.00</td>\n",
              "      <td>4481.380</td>\n",
              "      <td>19524.487500</td>\n",
              "      <td>5942244.48</td>\n",
              "    </tr>\n",
              "    <tr>\n",
              "      <th>AMB_MON_01</th>\n",
              "      <td>300000.0</td>\n",
              "      <td>19697.308678</td>\n",
              "      <td>65867.557731</td>\n",
              "      <td>-2533013.41</td>\n",
              "      <td>5.00</td>\n",
              "      <td>3015.050</td>\n",
              "      <td>16079.890000</td>\n",
              "      <td>5099563.25</td>\n",
              "    </tr>\n",
              "    <tr>\n",
              "      <th>AMB_MON_02</th>\n",
              "      <td>299008.0</td>\n",
              "      <td>19649.655041</td>\n",
              "      <td>62232.285612</td>\n",
              "      <td>-2511006.86</td>\n",
              "      <td>3.00</td>\n",
              "      <td>3050.745</td>\n",
              "      <td>16584.040000</td>\n",
              "      <td>4676654.36</td>\n",
              "    </tr>\n",
              "    <tr>\n",
              "      <th>AMB_MON_03</th>\n",
              "      <td>297222.0</td>\n",
              "      <td>19661.200885</td>\n",
              "      <td>60818.147540</td>\n",
              "      <td>-2495496.27</td>\n",
              "      <td>3.23</td>\n",
              "      <td>3263.715</td>\n",
              "      <td>17254.805000</td>\n",
              "      <td>5191553.01</td>\n",
              "    </tr>\n",
              "    <tr>\n",
              "      <th>PL2CC_ELIGIBLE</th>\n",
              "      <td>300000.0</td>\n",
              "      <td>0.059233</td>\n",
              "      <td>0.236061</td>\n",
              "      <td>0.00</td>\n",
              "      <td>0.00</td>\n",
              "      <td>0.000</td>\n",
              "      <td>0.000000</td>\n",
              "      <td>1.00</td>\n",
              "    </tr>\n",
              "    <tr>\n",
              "      <th>EOP_MON_02</th>\n",
              "      <td>299011.0</td>\n",
              "      <td>21556.570076</td>\n",
              "      <td>68380.592804</td>\n",
              "      <td>-2511006.86</td>\n",
              "      <td>0.00</td>\n",
              "      <td>1415.890</td>\n",
              "      <td>19550.125000</td>\n",
              "      <td>5366019.45</td>\n",
              "    </tr>\n",
              "    <tr>\n",
              "      <th>EOP_MON_03</th>\n",
              "      <td>297232.0</td>\n",
              "      <td>21619.534360</td>\n",
              "      <td>66579.031126</td>\n",
              "      <td>-2511006.86</td>\n",
              "      <td>0.00</td>\n",
              "      <td>1550.245</td>\n",
              "      <td>20260.930000</td>\n",
              "      <td>7500849.75</td>\n",
              "    </tr>\n",
              "    <tr>\n",
              "      <th>SCRUB_EMI</th>\n",
              "      <td>300000.0</td>\n",
              "      <td>3828.955679</td>\n",
              "      <td>118721.069972</td>\n",
              "      <td>0.00</td>\n",
              "      <td>0.00</td>\n",
              "      <td>0.000</td>\n",
              "      <td>222.382568</td>\n",
              "      <td>44687220.70</td>\n",
              "    </tr>\n",
              "  </tbody>\n",
              "</table>\n",
              "</div>"
            ],
            "text/plain": [
              "                           count          mean  ...           75%          max\n",
              "AGE                     300000.0     34.111603  ...     38.000000       217.00\n",
              "N_CASA_MAX_BALANCE_MTD  300000.0  34420.476661  ...  34286.407500  80026590.72\n",
              "N_CASA_MIN_BALANCE_MTD  300000.0  10432.440376  ...   4432.057500   4638099.45\n",
              "COC_ELIGIBLE            300000.0      0.104987  ...      0.000000         1.00\n",
              "EOP_BAL_MON_01          300000.0  23082.951515  ...  20934.487500   6738965.72\n",
              "AMB_MON_04              294378.0  20597.589876  ...  19524.487500   5942244.48\n",
              "AMB_MON_01              300000.0  19697.308678  ...  16079.890000   5099563.25\n",
              "AMB_MON_02              299008.0  19649.655041  ...  16584.040000   4676654.36\n",
              "AMB_MON_03              297222.0  19661.200885  ...  17254.805000   5191553.01\n",
              "PL2CC_ELIGIBLE          300000.0      0.059233  ...      0.000000         1.00\n",
              "EOP_MON_02              299011.0  21556.570076  ...  19550.125000   5366019.45\n",
              "EOP_MON_03              297232.0  21619.534360  ...  20260.930000   7500849.75\n",
              "SCRUB_EMI               300000.0   3828.955679  ...    222.382568  44687220.70\n",
              "\n",
              "[13 rows x 8 columns]"
            ]
          },
          "metadata": {
            "tags": []
          },
          "execution_count": 17
        }
      ]
    },
    {
      "cell_type": "code",
      "metadata": {
        "id": "QGEesD9QxO3k",
        "colab_type": "code",
        "colab": {
          "base_uri": "https://localhost:8080/",
          "height": 1000
        },
        "outputId": "a710895b-da3f-48aa-f6fa-9c036ae050c4"
      },
      "source": [
        "df[cat_cols].astype('object').describe().transpose()\n"
      ],
      "execution_count": 18,
      "outputs": [
        {
          "output_type": "execute_result",
          "data": {
            "text/html": [
              "<div>\n",
              "<style scoped>\n",
              "    .dataframe tbody tr th:only-of-type {\n",
              "        vertical-align: middle;\n",
              "    }\n",
              "\n",
              "    .dataframe tbody tr th {\n",
              "        vertical-align: top;\n",
              "    }\n",
              "\n",
              "    .dataframe thead th {\n",
              "        text-align: right;\n",
              "    }\n",
              "</style>\n",
              "<table border=\"1\" class=\"dataframe\">\n",
              "  <thead>\n",
              "    <tr style=\"text-align: right;\">\n",
              "      <th></th>\n",
              "      <th>count</th>\n",
              "      <th>unique</th>\n",
              "      <th>top</th>\n",
              "      <th>freq</th>\n",
              "    </tr>\n",
              "  </thead>\n",
              "  <tbody>\n",
              "    <tr>\n",
              "      <th>CARD_ENTMNT_MON_01</th>\n",
              "      <td>300000</td>\n",
              "      <td>2</td>\n",
              "      <td>N</td>\n",
              "      <td>262677</td>\n",
              "    </tr>\n",
              "    <tr>\n",
              "      <th>JOBS_MON_01</th>\n",
              "      <td>300000</td>\n",
              "      <td>2</td>\n",
              "      <td>N</td>\n",
              "      <td>298493</td>\n",
              "    </tr>\n",
              "    <tr>\n",
              "      <th>FINANCE_MON_01</th>\n",
              "      <td>300000</td>\n",
              "      <td>2</td>\n",
              "      <td>N</td>\n",
              "      <td>261465</td>\n",
              "    </tr>\n",
              "    <tr>\n",
              "      <th>CARD_HOTEL_MON_01</th>\n",
              "      <td>300000</td>\n",
              "      <td>2</td>\n",
              "      <td>N</td>\n",
              "      <td>277778</td>\n",
              "    </tr>\n",
              "    <tr>\n",
              "      <th>OCCUP_ALL_NEW</th>\n",
              "      <td>300000</td>\n",
              "      <td>1</td>\n",
              "      <td>SALARIED</td>\n",
              "      <td>300000</td>\n",
              "    </tr>\n",
              "    <tr>\n",
              "      <th>LIFESTYLE_MON_01</th>\n",
              "      <td>300000</td>\n",
              "      <td>2</td>\n",
              "      <td>N</td>\n",
              "      <td>289536</td>\n",
              "    </tr>\n",
              "    <tr>\n",
              "      <th>TPT_CC_CATEGORY_MON_01</th>\n",
              "      <td>300000</td>\n",
              "      <td>21</td>\n",
              "      <td>NO_TPT_TXN</td>\n",
              "      <td>277423</td>\n",
              "    </tr>\n",
              "    <tr>\n",
              "      <th>ACT_TYPE</th>\n",
              "      <td>300000</td>\n",
              "      <td>2</td>\n",
              "      <td>CSA</td>\n",
              "      <td>213385</td>\n",
              "    </tr>\n",
              "    <tr>\n",
              "      <th>RESPONDERS</th>\n",
              "      <td>300000</td>\n",
              "      <td>2</td>\n",
              "      <td>N</td>\n",
              "      <td>295388</td>\n",
              "    </tr>\n",
              "    <tr>\n",
              "      <th>CC_ACTIVE</th>\n",
              "      <td>300000</td>\n",
              "      <td>2</td>\n",
              "      <td>N</td>\n",
              "      <td>247782</td>\n",
              "    </tr>\n",
              "    <tr>\n",
              "      <th>LEGAL_ENTITY</th>\n",
              "      <td>300000</td>\n",
              "      <td>5</td>\n",
              "      <td>INDIVIDUAL</td>\n",
              "      <td>299710</td>\n",
              "    </tr>\n",
              "    <tr>\n",
              "      <th>NEFT_DC_CATEGORY</th>\n",
              "      <td>300000</td>\n",
              "      <td>20</td>\n",
              "      <td>NO_NEFT_TXN</td>\n",
              "      <td>266040</td>\n",
              "    </tr>\n",
              "    <tr>\n",
              "      <th>TOP_CORP_TAG</th>\n",
              "      <td>300000</td>\n",
              "      <td>3</td>\n",
              "      <td>NONE</td>\n",
              "      <td>254449</td>\n",
              "    </tr>\n",
              "    <tr>\n",
              "      <th>DESIGNATION_FINAL</th>\n",
              "      <td>300000</td>\n",
              "      <td>11</td>\n",
              "      <td>MISSING</td>\n",
              "      <td>233474</td>\n",
              "    </tr>\n",
              "    <tr>\n",
              "      <th>IMPS_CC_CATEGORY_MON_01</th>\n",
              "      <td>300000</td>\n",
              "      <td>21</td>\n",
              "      <td>NO_IMPS_TXN</td>\n",
              "      <td>270095</td>\n",
              "    </tr>\n",
              "    <tr>\n",
              "      <th>DC_HOLD</th>\n",
              "      <td>300000</td>\n",
              "      <td>2</td>\n",
              "      <td>Y</td>\n",
              "      <td>271648</td>\n",
              "    </tr>\n",
              "    <tr>\n",
              "      <th>CARD_JEWELLERY_MON_01</th>\n",
              "      <td>300000</td>\n",
              "      <td>2</td>\n",
              "      <td>N</td>\n",
              "      <td>286590</td>\n",
              "    </tr>\n",
              "    <tr>\n",
              "      <th>INMON_01KET_MON_01</th>\n",
              "      <td>300000</td>\n",
              "      <td>2</td>\n",
              "      <td>N</td>\n",
              "      <td>299835</td>\n",
              "    </tr>\n",
              "    <tr>\n",
              "      <th>CARD_HOBBY_MON_01</th>\n",
              "      <td>300000</td>\n",
              "      <td>2</td>\n",
              "      <td>N</td>\n",
              "      <td>281671</td>\n",
              "    </tr>\n",
              "    <tr>\n",
              "      <th>CARD_MEDICAL_MON_01</th>\n",
              "      <td>300000</td>\n",
              "      <td>2</td>\n",
              "      <td>N</td>\n",
              "      <td>265230</td>\n",
              "    </tr>\n",
              "    <tr>\n",
              "      <th>TPT_DC_CATEGORY_MON_01</th>\n",
              "      <td>300000</td>\n",
              "      <td>21</td>\n",
              "      <td>NO_TPT_TXN</td>\n",
              "      <td>278845</td>\n",
              "    </tr>\n",
              "    <tr>\n",
              "      <th>CHANNEL_CLICK_DISP</th>\n",
              "      <td>300000</td>\n",
              "      <td>3</td>\n",
              "      <td>NONE</td>\n",
              "      <td>221691</td>\n",
              "    </tr>\n",
              "    <tr>\n",
              "      <th>DC_ACTIVE</th>\n",
              "      <td>300000</td>\n",
              "      <td>2</td>\n",
              "      <td>N</td>\n",
              "      <td>175356</td>\n",
              "    </tr>\n",
              "    <tr>\n",
              "      <th>CARD_TRAVEL_MON_01</th>\n",
              "      <td>300000</td>\n",
              "      <td>2</td>\n",
              "      <td>N</td>\n",
              "      <td>279664</td>\n",
              "    </tr>\n",
              "    <tr>\n",
              "      <th>GENDER</th>\n",
              "      <td>299913</td>\n",
              "      <td>2</td>\n",
              "      <td>M</td>\n",
              "      <td>230178</td>\n",
              "    </tr>\n",
              "    <tr>\n",
              "      <th>NEFT_CC_CATEGORY</th>\n",
              "      <td>300000</td>\n",
              "      <td>20</td>\n",
              "      <td>NO_NEFT_TXN</td>\n",
              "      <td>255108</td>\n",
              "    </tr>\n",
              "    <tr>\n",
              "      <th>TOP14_CITY</th>\n",
              "      <td>300000</td>\n",
              "      <td>2</td>\n",
              "      <td>Y</td>\n",
              "      <td>154743</td>\n",
              "    </tr>\n",
              "    <tr>\n",
              "      <th>CARD_HOME_DECOR_MON_01</th>\n",
              "      <td>300000</td>\n",
              "      <td>2</td>\n",
              "      <td>N</td>\n",
              "      <td>295002</td>\n",
              "    </tr>\n",
              "    <tr>\n",
              "      <th>CARD_RESTAURANT_MON_01</th>\n",
              "      <td>300000</td>\n",
              "      <td>2</td>\n",
              "      <td>N</td>\n",
              "      <td>239577</td>\n",
              "    </tr>\n",
              "    <tr>\n",
              "      <th>CARD_PRSNL_CARE_MON_01</th>\n",
              "      <td>300000</td>\n",
              "      <td>2</td>\n",
              "      <td>N</td>\n",
              "      <td>287235</td>\n",
              "    </tr>\n",
              "    <tr>\n",
              "      <th>ZIP_CODE_FINAL</th>\n",
              "      <td>297853</td>\n",
              "      <td>36411</td>\n",
              "      <td>201301.0</td>\n",
              "      <td>1638</td>\n",
              "    </tr>\n",
              "    <tr>\n",
              "      <th>CARD_AUTOMOBILE_MON_01</th>\n",
              "      <td>300000</td>\n",
              "      <td>2</td>\n",
              "      <td>N</td>\n",
              "      <td>286994</td>\n",
              "    </tr>\n",
              "    <tr>\n",
              "      <th>TOP9_CITY</th>\n",
              "      <td>300000</td>\n",
              "      <td>2</td>\n",
              "      <td>N</td>\n",
              "      <td>161149</td>\n",
              "    </tr>\n",
              "    <tr>\n",
              "      <th>CC_HOLD</th>\n",
              "      <td>300000</td>\n",
              "      <td>2</td>\n",
              "      <td>N</td>\n",
              "      <td>225282</td>\n",
              "    </tr>\n",
              "    <tr>\n",
              "      <th>TRAVEL_MON_01</th>\n",
              "      <td>300000</td>\n",
              "      <td>2</td>\n",
              "      <td>N</td>\n",
              "      <td>269490</td>\n",
              "    </tr>\n",
              "  </tbody>\n",
              "</table>\n",
              "</div>"
            ],
            "text/plain": [
              "                          count unique          top    freq\n",
              "CARD_ENTMNT_MON_01       300000      2            N  262677\n",
              "JOBS_MON_01              300000      2            N  298493\n",
              "FINANCE_MON_01           300000      2            N  261465\n",
              "CARD_HOTEL_MON_01        300000      2            N  277778\n",
              "OCCUP_ALL_NEW            300000      1     SALARIED  300000\n",
              "LIFESTYLE_MON_01         300000      2            N  289536\n",
              "TPT_CC_CATEGORY_MON_01   300000     21   NO_TPT_TXN  277423\n",
              "ACT_TYPE                 300000      2          CSA  213385\n",
              "RESPONDERS               300000      2            N  295388\n",
              "CC_ACTIVE                300000      2            N  247782\n",
              "LEGAL_ENTITY             300000      5   INDIVIDUAL  299710\n",
              "NEFT_DC_CATEGORY         300000     20  NO_NEFT_TXN  266040\n",
              "TOP_CORP_TAG             300000      3         NONE  254449\n",
              "DESIGNATION_FINAL        300000     11      MISSING  233474\n",
              "IMPS_CC_CATEGORY_MON_01  300000     21  NO_IMPS_TXN  270095\n",
              "DC_HOLD                  300000      2            Y  271648\n",
              "CARD_JEWELLERY_MON_01    300000      2            N  286590\n",
              "INMON_01KET_MON_01       300000      2            N  299835\n",
              "CARD_HOBBY_MON_01        300000      2            N  281671\n",
              "CARD_MEDICAL_MON_01      300000      2            N  265230\n",
              "TPT_DC_CATEGORY_MON_01   300000     21   NO_TPT_TXN  278845\n",
              "CHANNEL_CLICK_DISP       300000      3         NONE  221691\n",
              "DC_ACTIVE                300000      2            N  175356\n",
              "CARD_TRAVEL_MON_01       300000      2            N  279664\n",
              "GENDER                   299913      2            M  230178\n",
              "NEFT_CC_CATEGORY         300000     20  NO_NEFT_TXN  255108\n",
              "TOP14_CITY               300000      2            Y  154743\n",
              "CARD_HOME_DECOR_MON_01   300000      2            N  295002\n",
              "CARD_RESTAURANT_MON_01   300000      2            N  239577\n",
              "CARD_PRSNL_CARE_MON_01   300000      2            N  287235\n",
              "ZIP_CODE_FINAL           297853  36411     201301.0    1638\n",
              "CARD_AUTOMOBILE_MON_01   300000      2            N  286994\n",
              "TOP9_CITY                300000      2            N  161149\n",
              "CC_HOLD                  300000      2            N  225282\n",
              "TRAVEL_MON_01            300000      2            N  269490"
            ]
          },
          "metadata": {
            "tags": []
          },
          "execution_count": 18
        }
      ]
    },
    {
      "cell_type": "code",
      "metadata": {
        "id": "l5f1CDXtxO3n",
        "colab_type": "code",
        "colab": {}
      },
      "source": [
        "#Removing Unwanted Cols\n",
        "df.drop(['ZIP_CODE_FINAL', 'DESIGNATION_FINAL','INMON_01KET_MON_01','LEGAL_ENTITY'], axis = 1,inplace=True) "
      ],
      "execution_count": 0,
      "outputs": []
    },
    {
      "cell_type": "code",
      "metadata": {
        "id": "hCDYqf6ExO3t",
        "colab_type": "code",
        "colab": {}
      },
      "source": [
        "cat_cols.remove('ZIP_CODE_FINAL')\n",
        "cat_cols.remove('DESIGNATION_FINAL')\n",
        "cat_cols.remove('INMON_01KET_MON_01')\n",
        "cat_cols.remove('LEGAL_ENTITY')\n",
        "cat_cols.remove('RESPONDERS')"
      ],
      "execution_count": 0,
      "outputs": []
    },
    {
      "cell_type": "code",
      "metadata": {
        "id": "fs8iD-WVxO39",
        "colab_type": "code",
        "colab": {}
      },
      "source": [
        "df['GENDER'].fillna(df['GENDER'].mode()[0], inplace=True)\n",
        "#df['GENDER'].apply(lambda x: x.fillna(x.mode, inplace=True))"
      ],
      "execution_count": 0,
      "outputs": []
    },
    {
      "cell_type": "code",
      "metadata": {
        "id": "YlC87bQ-xO4U",
        "colab_type": "code",
        "colab": {}
      },
      "source": [
        " df['AMB_MON_03'].fillna(np.mean(df[['AMB_MON_04', 'AMB_MON_02','AMB_MON_01']],axis=1),inplace=True)    "
      ],
      "execution_count": 0,
      "outputs": []
    },
    {
      "cell_type": "code",
      "metadata": {
        "id": "HZJEprEMxO4a",
        "colab_type": "code",
        "colab": {}
      },
      "source": [
        " df['AMB_MON_02'].fillna(np.mean(df[['AMB_MON_04', 'AMB_MON_03','AMB_MON_01']],axis=1),inplace=True)                 "
      ],
      "execution_count": 0,
      "outputs": []
    },
    {
      "cell_type": "code",
      "metadata": {
        "id": "zcIFQbtSxO4j",
        "colab_type": "code",
        "colab": {}
      },
      "source": [
        "df.AMB_MON_04.fillna(np.mean(df[['AMB_MON_02', 'AMB_MON_03','AMB_MON_01']],axis=1),inplace=True)"
      ],
      "execution_count": 0,
      "outputs": []
    },
    {
      "cell_type": "code",
      "metadata": {
        "id": "S8cISXEDxO4r",
        "colab_type": "code",
        "colab": {}
      },
      "source": [
        "df.EOP_MON_02.fillna(df['EOP_MON_03'],inplace=True)"
      ],
      "execution_count": 0,
      "outputs": []
    },
    {
      "cell_type": "code",
      "metadata": {
        "id": "WA6vy8LGxO4x",
        "colab_type": "code",
        "colab": {}
      },
      "source": [
        "df.EOP_MON_03.fillna(df['EOP_MON_02'],inplace=True)"
      ],
      "execution_count": 0,
      "outputs": []
    },
    {
      "cell_type": "code",
      "metadata": {
        "id": "GCzp0o4mxO42",
        "colab_type": "code",
        "colab": {
          "base_uri": "https://localhost:8080/",
          "height": 919
        },
        "outputId": "81832311-3fe4-4fd0-9deb-143687eac1cf"
      },
      "source": [
        "df.info()"
      ],
      "execution_count": 27,
      "outputs": [
        {
          "output_type": "stream",
          "text": [
            "<class 'pandas.core.frame.DataFrame'>\n",
            "RangeIndex: 300000 entries, 0 to 299999\n",
            "Data columns (total 45 columns):\n",
            " #   Column                   Non-Null Count   Dtype  \n",
            "---  ------                   --------------   -----  \n",
            " 0   CUSTOMER_ID              300000 non-null  int64  \n",
            " 1   ACT_TYPE                 300000 non-null  object \n",
            " 2   GENDER                   300000 non-null  object \n",
            " 3   OCCUP_ALL_NEW            300000 non-null  object \n",
            " 4   AGE                      300000 non-null  int64  \n",
            " 5   N_CASA_MAX_BALANCE_MTD   300000 non-null  float64\n",
            " 6   N_CASA_MIN_BALANCE_MTD   300000 non-null  float64\n",
            " 7   CC_HOLD                  300000 non-null  object \n",
            " 8   CC_ACTIVE                300000 non-null  object \n",
            " 9   DC_HOLD                  300000 non-null  object \n",
            " 10  DC_ACTIVE                300000 non-null  object \n",
            " 11  COC_ELIGIBLE             300000 non-null  int64  \n",
            " 12  EOP_BAL_MON_01           300000 non-null  float64\n",
            " 13  AMB_MON_04               300000 non-null  float64\n",
            " 14  AMB_MON_01               300000 non-null  float64\n",
            " 15  AMB_MON_02               300000 non-null  float64\n",
            " 16  AMB_MON_03               300000 non-null  float64\n",
            " 17  FINANCE_MON_01           300000 non-null  object \n",
            " 18  JOBS_MON_01              300000 non-null  object \n",
            " 19  LIFESTYLE_MON_01         300000 non-null  object \n",
            " 20  TRAVEL_MON_01            300000 non-null  object \n",
            " 21  CHANNEL_CLICK_DISP       300000 non-null  object \n",
            " 22  TOP14_CITY               300000 non-null  object \n",
            " 23  TOP9_CITY                300000 non-null  object \n",
            " 24  PL2CC_ELIGIBLE           300000 non-null  int64  \n",
            " 25  NEFT_CC_CATEGORY         300000 non-null  object \n",
            " 26  NEFT_DC_CATEGORY         300000 non-null  object \n",
            " 27  TPT_DC_CATEGORY_MON_01   300000 non-null  object \n",
            " 28  TPT_CC_CATEGORY_MON_01   300000 non-null  object \n",
            " 29  IMPS_CC_CATEGORY_MON_01  300000 non-null  object \n",
            " 30  CARD_AUTOMOBILE_MON_01   300000 non-null  object \n",
            " 31  CARD_HOTEL_MON_01        300000 non-null  object \n",
            " 32  CARD_JEWELLERY_MON_01    300000 non-null  object \n",
            " 33  CARD_RESTAURANT_MON_01   300000 non-null  object \n",
            " 34  CARD_TRAVEL_MON_01       300000 non-null  object \n",
            " 35  CARD_PRSNL_CARE_MON_01   300000 non-null  object \n",
            " 36  CARD_HOBBY_MON_01        300000 non-null  object \n",
            " 37  CARD_HOME_DECOR_MON_01   300000 non-null  object \n",
            " 38  CARD_MEDICAL_MON_01      300000 non-null  object \n",
            " 39  CARD_ENTMNT_MON_01       300000 non-null  object \n",
            " 40  TOP_CORP_TAG             300000 non-null  object \n",
            " 41  EOP_MON_02               299014 non-null  float64\n",
            " 42  EOP_MON_03               299014 non-null  float64\n",
            " 43  SCRUB_EMI                300000 non-null  float64\n",
            " 44  RESPONDERS               300000 non-null  object \n",
            "dtypes: float64(10), int64(4), object(31)\n",
            "memory usage: 103.0+ MB\n"
          ],
          "name": "stdout"
        }
      ]
    },
    {
      "cell_type": "code",
      "metadata": {
        "id": "FzX7pnn9xO46",
        "colab_type": "code",
        "colab": {}
      },
      "source": [
        "df.EOP_MON_02.fillna(0,inplace=True)\n",
        "df.EOP_MON_03.fillna(0,inplace=True)\n",
        "#df.to_excel(\"C:/Users/paramjeet.kumar/Downloads/crosssell-target-the-right-customer/final3.xlsx\")"
      ],
      "execution_count": 0,
      "outputs": []
    },
    {
      "cell_type": "code",
      "metadata": {
        "id": "BeeMy0JixO5G",
        "colab_type": "code",
        "colab": {}
      },
      "source": [
        "for i, col in enumerate(num_cols):\n",
        "    percentiles = df[col].quantile([0.01,0.99]).values\n",
        "    df[col] = np.clip(df[col], percentiles[0], percentiles[1])"
      ],
      "execution_count": 0,
      "outputs": []
    },
    {
      "cell_type": "code",
      "metadata": {
        "id": "MS7xW8kDxO5L",
        "colab_type": "code",
        "colab": {}
      },
      "source": [
        "#for i, col in enumerate(num_cols):\n",
        " #   percentiles = df[col].quantile([0.01,0.99]).values\n",
        "  #  df[col][df[col] <= percentiles[0]] = percentiles[0]\n",
        "   # df[col][df[col] >= percentiles[1]] = percentiles[1]"
      ],
      "execution_count": 0,
      "outputs": []
    },
    {
      "cell_type": "code",
      "metadata": {
        "id": "Nzg5h4bYxO5R",
        "colab_type": "code",
        "colab": {}
      },
      "source": [
        "df['TARGET'] = df['RESPONDERS'].map(dict(Y=1, N=0))\n"
      ],
      "execution_count": 0,
      "outputs": []
    },
    {
      "cell_type": "code",
      "metadata": {
        "id": "TDwEBCAZOnxs",
        "colab_type": "code",
        "colab": {}
      },
      "source": [
        "Woe_col=num_cols+cat_cols"
      ],
      "execution_count": 0,
      "outputs": []
    },
    {
      "cell_type": "code",
      "metadata": {
        "id": "Jm43doB2xO5g",
        "colab_type": "code",
        "colab": {
          "base_uri": "https://localhost:8080/",
          "height": 1000
        },
        "outputId": "706814a1-b3dc-495e-8744-0b685802ee35"
      },
      "source": [
        "import woe.feature_process as fp\n",
        "import woe.eval as eval\n",
        " \n",
        "#%% woe bin, iv and transform\n",
        "data = df[Woe_col] # is used to store the woe value of all data\n",
        "data['target']=df['TARGET']\n",
        "data_woe=pd.DataFrame()\n",
        "civ_list = []\n",
        "n_positive = sum(data['target'])\n",
        "n_negtive = len(data) - n_positive\n",
        "for column in Woe_col:\n",
        "    if data[column].dtypes == 'object':\n",
        "        civ = fp.proc_woe_discrete(data, column, n_positive, n_negtive, 0.05*len(data), alpha=0.05)\n",
        "    else:            \n",
        "        civ = fp.proc_woe_continuous(data, column, n_positive, n_negtive, 0.05*len(data), alpha=0.05)\n",
        "    civ_list.append(civ)\n",
        "    data_woe[column] = fp.woe_trans(data[column], civ)\n",
        "    \n",
        "civ_df = eval.eval_feature_detail(civ_list)\n",
        "# Delete iv value too small variable\n",
        "iv_thre = 0.001\n",
        "iv = civ_df[['var_name','iv']].drop_duplicates()\n",
        "iv"
      ],
      "execution_count": 33,
      "outputs": [
        {
          "output_type": "stream",
          "text": [
            "/usr/local/lib/python3.6/dist-packages/ipykernel_launcher.py:6: SettingWithCopyWarning: \n",
            "A value is trying to be set on a copy of a slice from a DataFrame.\n",
            "Try using .loc[row_indexer,col_indexer] = value instead\n",
            "\n",
            "See the caveats in the documentation: https://pandas.pydata.org/pandas-docs/stable/user_guide/indexing.html#returning-a-view-versus-a-copy\n",
            "  \n"
          ],
          "name": "stderr"
        },
        {
          "output_type": "stream",
          "text": [
            "--------------process continuous variable:AGE---------------\n",
            "-----process continuous variable:N_CASA_MAX_BALANCE_MTD-----\n",
            "-----process continuous variable:N_CASA_MIN_BALANCE_MTD-----\n",
            "----------process continuous variable:COC_ELIGIBLE----------\n",
            "---------process continuous variable:EOP_BAL_MON_01---------\n",
            "-----------process continuous variable:AMB_MON_04-----------\n",
            "-----------process continuous variable:AMB_MON_01-----------\n",
            "-----------process continuous variable:AMB_MON_02-----------\n",
            "-----------process continuous variable:AMB_MON_03-----------\n",
            "---------process continuous variable:PL2CC_ELIGIBLE---------\n",
            "-----------process continuous variable:EOP_MON_02-----------\n",
            "-----------process continuous variable:EOP_MON_03-----------\n",
            "-----------process continuous variable:SCRUB_EMI------------\n",
            "--------process discrete variable:CARD_ENTMNT_MON_01--------\n"
          ],
          "name": "stdout"
        },
        {
          "output_type": "stream",
          "text": [
            "/usr/local/lib/python3.6/dist-packages/woe/feature_process.py:414: SettingWithCopyWarning: \n",
            "A value is trying to be set on a copy of a slice from a DataFrame.\n",
            "Try using .loc[row_indexer,col_indexer] = value instead\n",
            "\n",
            "See the caveats in the documentation: https://pandas.pydata.org/pandas-docs/stable/user_guide/indexing.html#returning-a-view-versus-a-copy\n",
            "  df[var] = cpvar\n"
          ],
          "name": "stderr"
        },
        {
          "output_type": "stream",
          "text": [
            "-----------process discrete variable:JOBS_MON_01------------\n",
            "----------process discrete variable:FINANCE_MON_01----------\n",
            "--------process discrete variable:CARD_HOTEL_MON_01---------\n",
            "----------process discrete variable:OCCUP_ALL_NEW-----------\n",
            "---------process discrete variable:LIFESTYLE_MON_01---------\n",
            "------process discrete variable:TPT_CC_CATEGORY_MON_01------\n",
            "-------------process discrete variable:ACT_TYPE-------------\n",
            "------------process discrete variable:CC_ACTIVE-------------\n",
            "---------process discrete variable:NEFT_DC_CATEGORY---------\n",
            "-----------process discrete variable:TOP_CORP_TAG-----------\n",
            "-----process discrete variable:IMPS_CC_CATEGORY_MON_01------\n",
            "-------------process discrete variable:DC_HOLD--------------\n",
            "------process discrete variable:CARD_JEWELLERY_MON_01-------\n",
            "--------process discrete variable:CARD_HOBBY_MON_01---------\n",
            "-------process discrete variable:CARD_MEDICAL_MON_01--------\n",
            "------process discrete variable:TPT_DC_CATEGORY_MON_01------\n",
            "--------process discrete variable:CHANNEL_CLICK_DISP--------\n",
            "------------process discrete variable:DC_ACTIVE-------------\n",
            "--------process discrete variable:CARD_TRAVEL_MON_01--------\n",
            "--------------process discrete variable:GENDER--------------\n",
            "---------process discrete variable:NEFT_CC_CATEGORY---------\n",
            "------------process discrete variable:TOP14_CITY------------\n",
            "------process discrete variable:CARD_HOME_DECOR_MON_01------\n",
            "------process discrete variable:CARD_RESTAURANT_MON_01------\n",
            "------process discrete variable:CARD_PRSNL_CARE_MON_01------\n",
            "------process discrete variable:CARD_AUTOMOBILE_MON_01------\n",
            "------------process discrete variable:TOP9_CITY-------------\n",
            "-------------process discrete variable:CC_HOLD--------------\n",
            "----------process discrete variable:TRAVEL_MON_01-----------\n",
            "AGE\n",
            "N_CASA_MAX_BALANCE_MTD\n",
            "N_CASA_MIN_BALANCE_MTD\n",
            "COC_ELIGIBLE\n",
            "EOP_BAL_MON_01\n",
            "AMB_MON_04\n",
            "AMB_MON_01\n",
            "AMB_MON_02\n",
            "AMB_MON_03\n",
            "PL2CC_ELIGIBLE\n",
            "EOP_MON_02\n",
            "EOP_MON_03\n",
            "SCRUB_EMI\n",
            "CARD_ENTMNT_MON_01\n",
            "JOBS_MON_01\n",
            "FINANCE_MON_01\n",
            "CARD_HOTEL_MON_01\n",
            "OCCUP_ALL_NEW\n",
            "LIFESTYLE_MON_01\n",
            "TPT_CC_CATEGORY_MON_01\n",
            "ACT_TYPE\n",
            "CC_ACTIVE\n",
            "NEFT_DC_CATEGORY\n",
            "TOP_CORP_TAG\n",
            "IMPS_CC_CATEGORY_MON_01\n",
            "DC_HOLD\n",
            "CARD_JEWELLERY_MON_01\n",
            "CARD_HOBBY_MON_01\n",
            "CARD_MEDICAL_MON_01\n",
            "TPT_DC_CATEGORY_MON_01\n",
            "CHANNEL_CLICK_DISP\n",
            "DC_ACTIVE\n",
            "CARD_TRAVEL_MON_01\n",
            "GENDER\n",
            "NEFT_CC_CATEGORY\n",
            "TOP14_CITY\n",
            "CARD_HOME_DECOR_MON_01\n",
            "CARD_RESTAURANT_MON_01\n",
            "CARD_PRSNL_CARE_MON_01\n",
            "CARD_AUTOMOBILE_MON_01\n",
            "TOP9_CITY\n",
            "CC_HOLD\n",
            "TRAVEL_MON_01\n"
          ],
          "name": "stdout"
        },
        {
          "output_type": "execute_result",
          "data": {
            "text/html": [
              "<div>\n",
              "<style scoped>\n",
              "    .dataframe tbody tr th:only-of-type {\n",
              "        vertical-align: middle;\n",
              "    }\n",
              "\n",
              "    .dataframe tbody tr th {\n",
              "        vertical-align: top;\n",
              "    }\n",
              "\n",
              "    .dataframe thead th {\n",
              "        text-align: right;\n",
              "    }\n",
              "</style>\n",
              "<table border=\"1\" class=\"dataframe\">\n",
              "  <thead>\n",
              "    <tr style=\"text-align: right;\">\n",
              "      <th></th>\n",
              "      <th>var_name</th>\n",
              "      <th>iv</th>\n",
              "    </tr>\n",
              "  </thead>\n",
              "  <tbody>\n",
              "    <tr>\n",
              "      <th>0</th>\n",
              "      <td>AGE</td>\n",
              "      <td>4.500522e-02</td>\n",
              "    </tr>\n",
              "    <tr>\n",
              "      <th>0</th>\n",
              "      <td>N_CASA_MAX_BALANCE_MTD</td>\n",
              "      <td>6.675874e-01</td>\n",
              "    </tr>\n",
              "    <tr>\n",
              "      <th>0</th>\n",
              "      <td>N_CASA_MIN_BALANCE_MTD</td>\n",
              "      <td>1.424076e-01</td>\n",
              "    </tr>\n",
              "    <tr>\n",
              "      <th>0</th>\n",
              "      <td>COC_ELIGIBLE</td>\n",
              "      <td>4.006419e-02</td>\n",
              "    </tr>\n",
              "    <tr>\n",
              "      <th>0</th>\n",
              "      <td>EOP_BAL_MON_01</td>\n",
              "      <td>4.375579e-01</td>\n",
              "    </tr>\n",
              "    <tr>\n",
              "      <th>0</th>\n",
              "      <td>AMB_MON_04</td>\n",
              "      <td>5.421520e-01</td>\n",
              "    </tr>\n",
              "    <tr>\n",
              "      <th>0</th>\n",
              "      <td>AMB_MON_01</td>\n",
              "      <td>5.935652e-01</td>\n",
              "    </tr>\n",
              "    <tr>\n",
              "      <th>0</th>\n",
              "      <td>AMB_MON_02</td>\n",
              "      <td>5.573252e-01</td>\n",
              "    </tr>\n",
              "    <tr>\n",
              "      <th>0</th>\n",
              "      <td>AMB_MON_03</td>\n",
              "      <td>5.748114e-01</td>\n",
              "    </tr>\n",
              "    <tr>\n",
              "      <th>0</th>\n",
              "      <td>PL2CC_ELIGIBLE</td>\n",
              "      <td>1.706663e-02</td>\n",
              "    </tr>\n",
              "    <tr>\n",
              "      <th>0</th>\n",
              "      <td>EOP_MON_02</td>\n",
              "      <td>3.552964e-01</td>\n",
              "    </tr>\n",
              "    <tr>\n",
              "      <th>0</th>\n",
              "      <td>EOP_MON_03</td>\n",
              "      <td>3.322250e-01</td>\n",
              "    </tr>\n",
              "    <tr>\n",
              "      <th>0</th>\n",
              "      <td>SCRUB_EMI</td>\n",
              "      <td>1.345674e-01</td>\n",
              "    </tr>\n",
              "    <tr>\n",
              "      <th>0</th>\n",
              "      <td>CARD_ENTMNT_MON_01</td>\n",
              "      <td>1.331900e-01</td>\n",
              "    </tr>\n",
              "    <tr>\n",
              "      <th>0</th>\n",
              "      <td>JOBS_MON_01</td>\n",
              "      <td>1.463930e-03</td>\n",
              "    </tr>\n",
              "    <tr>\n",
              "      <th>0</th>\n",
              "      <td>FINANCE_MON_01</td>\n",
              "      <td>3.203711e-01</td>\n",
              "    </tr>\n",
              "    <tr>\n",
              "      <th>0</th>\n",
              "      <td>CARD_HOTEL_MON_01</td>\n",
              "      <td>6.717808e-02</td>\n",
              "    </tr>\n",
              "    <tr>\n",
              "      <th>0</th>\n",
              "      <td>OCCUP_ALL_NEW</td>\n",
              "      <td>4.555676e-16</td>\n",
              "    </tr>\n",
              "    <tr>\n",
              "      <th>0</th>\n",
              "      <td>LIFESTYLE_MON_01</td>\n",
              "      <td>3.063846e-02</td>\n",
              "    </tr>\n",
              "    <tr>\n",
              "      <th>0</th>\n",
              "      <td>TPT_CC_CATEGORY_MON_01</td>\n",
              "      <td>1.223758e-01</td>\n",
              "    </tr>\n",
              "    <tr>\n",
              "      <th>0</th>\n",
              "      <td>ACT_TYPE</td>\n",
              "      <td>8.912118e-02</td>\n",
              "    </tr>\n",
              "    <tr>\n",
              "      <th>0</th>\n",
              "      <td>CC_ACTIVE</td>\n",
              "      <td>4.359688e-01</td>\n",
              "    </tr>\n",
              "    <tr>\n",
              "      <th>0</th>\n",
              "      <td>NEFT_DC_CATEGORY</td>\n",
              "      <td>1.190407e-01</td>\n",
              "    </tr>\n",
              "    <tr>\n",
              "      <th>0</th>\n",
              "      <td>TOP_CORP_TAG</td>\n",
              "      <td>8.777947e-02</td>\n",
              "    </tr>\n",
              "    <tr>\n",
              "      <th>0</th>\n",
              "      <td>IMPS_CC_CATEGORY_MON_01</td>\n",
              "      <td>1.745356e-01</td>\n",
              "    </tr>\n",
              "    <tr>\n",
              "      <th>0</th>\n",
              "      <td>DC_HOLD</td>\n",
              "      <td>1.310138e-01</td>\n",
              "    </tr>\n",
              "    <tr>\n",
              "      <th>0</th>\n",
              "      <td>CARD_JEWELLERY_MON_01</td>\n",
              "      <td>3.907620e-02</td>\n",
              "    </tr>\n",
              "    <tr>\n",
              "      <th>0</th>\n",
              "      <td>CARD_HOBBY_MON_01</td>\n",
              "      <td>3.829063e-02</td>\n",
              "    </tr>\n",
              "    <tr>\n",
              "      <th>0</th>\n",
              "      <td>CARD_MEDICAL_MON_01</td>\n",
              "      <td>8.940770e-02</td>\n",
              "    </tr>\n",
              "    <tr>\n",
              "      <th>0</th>\n",
              "      <td>TPT_DC_CATEGORY_MON_01</td>\n",
              "      <td>1.214962e-01</td>\n",
              "    </tr>\n",
              "    <tr>\n",
              "      <th>0</th>\n",
              "      <td>CHANNEL_CLICK_DISP</td>\n",
              "      <td>3.462180e-01</td>\n",
              "    </tr>\n",
              "    <tr>\n",
              "      <th>0</th>\n",
              "      <td>DC_ACTIVE</td>\n",
              "      <td>4.102394e-01</td>\n",
              "    </tr>\n",
              "    <tr>\n",
              "      <th>0</th>\n",
              "      <td>CARD_TRAVEL_MON_01</td>\n",
              "      <td>4.951535e-02</td>\n",
              "    </tr>\n",
              "    <tr>\n",
              "      <th>0</th>\n",
              "      <td>GENDER</td>\n",
              "      <td>9.793385e-02</td>\n",
              "    </tr>\n",
              "    <tr>\n",
              "      <th>0</th>\n",
              "      <td>NEFT_CC_CATEGORY</td>\n",
              "      <td>1.073436e-01</td>\n",
              "    </tr>\n",
              "    <tr>\n",
              "      <th>0</th>\n",
              "      <td>TOP14_CITY</td>\n",
              "      <td>1.034513e-02</td>\n",
              "    </tr>\n",
              "    <tr>\n",
              "      <th>0</th>\n",
              "      <td>CARD_HOME_DECOR_MON_01</td>\n",
              "      <td>2.273217e-02</td>\n",
              "    </tr>\n",
              "    <tr>\n",
              "      <th>0</th>\n",
              "      <td>CARD_RESTAURANT_MON_01</td>\n",
              "      <td>2.028866e-01</td>\n",
              "    </tr>\n",
              "    <tr>\n",
              "      <th>0</th>\n",
              "      <td>CARD_PRSNL_CARE_MON_01</td>\n",
              "      <td>1.632286e-02</td>\n",
              "    </tr>\n",
              "    <tr>\n",
              "      <th>0</th>\n",
              "      <td>CARD_AUTOMOBILE_MON_01</td>\n",
              "      <td>5.311117e-02</td>\n",
              "    </tr>\n",
              "    <tr>\n",
              "      <th>0</th>\n",
              "      <td>TOP9_CITY</td>\n",
              "      <td>1.198571e-02</td>\n",
              "    </tr>\n",
              "    <tr>\n",
              "      <th>0</th>\n",
              "      <td>CC_HOLD</td>\n",
              "      <td>4.683964e-01</td>\n",
              "    </tr>\n",
              "    <tr>\n",
              "      <th>0</th>\n",
              "      <td>TRAVEL_MON_01</td>\n",
              "      <td>8.774445e-02</td>\n",
              "    </tr>\n",
              "  </tbody>\n",
              "</table>\n",
              "</div>"
            ],
            "text/plain": [
              "                  var_name            iv\n",
              "0                      AGE  4.500522e-02\n",
              "0   N_CASA_MAX_BALANCE_MTD  6.675874e-01\n",
              "0   N_CASA_MIN_BALANCE_MTD  1.424076e-01\n",
              "0             COC_ELIGIBLE  4.006419e-02\n",
              "0           EOP_BAL_MON_01  4.375579e-01\n",
              "0               AMB_MON_04  5.421520e-01\n",
              "0               AMB_MON_01  5.935652e-01\n",
              "0               AMB_MON_02  5.573252e-01\n",
              "0               AMB_MON_03  5.748114e-01\n",
              "0           PL2CC_ELIGIBLE  1.706663e-02\n",
              "0               EOP_MON_02  3.552964e-01\n",
              "0               EOP_MON_03  3.322250e-01\n",
              "0                SCRUB_EMI  1.345674e-01\n",
              "0       CARD_ENTMNT_MON_01  1.331900e-01\n",
              "0              JOBS_MON_01  1.463930e-03\n",
              "0           FINANCE_MON_01  3.203711e-01\n",
              "0        CARD_HOTEL_MON_01  6.717808e-02\n",
              "0            OCCUP_ALL_NEW  4.555676e-16\n",
              "0         LIFESTYLE_MON_01  3.063846e-02\n",
              "0   TPT_CC_CATEGORY_MON_01  1.223758e-01\n",
              "0                 ACT_TYPE  8.912118e-02\n",
              "0                CC_ACTIVE  4.359688e-01\n",
              "0         NEFT_DC_CATEGORY  1.190407e-01\n",
              "0             TOP_CORP_TAG  8.777947e-02\n",
              "0  IMPS_CC_CATEGORY_MON_01  1.745356e-01\n",
              "0                  DC_HOLD  1.310138e-01\n",
              "0    CARD_JEWELLERY_MON_01  3.907620e-02\n",
              "0        CARD_HOBBY_MON_01  3.829063e-02\n",
              "0      CARD_MEDICAL_MON_01  8.940770e-02\n",
              "0   TPT_DC_CATEGORY_MON_01  1.214962e-01\n",
              "0       CHANNEL_CLICK_DISP  3.462180e-01\n",
              "0                DC_ACTIVE  4.102394e-01\n",
              "0       CARD_TRAVEL_MON_01  4.951535e-02\n",
              "0                   GENDER  9.793385e-02\n",
              "0         NEFT_CC_CATEGORY  1.073436e-01\n",
              "0               TOP14_CITY  1.034513e-02\n",
              "0   CARD_HOME_DECOR_MON_01  2.273217e-02\n",
              "0   CARD_RESTAURANT_MON_01  2.028866e-01\n",
              "0   CARD_PRSNL_CARE_MON_01  1.632286e-02\n",
              "0   CARD_AUTOMOBILE_MON_01  5.311117e-02\n",
              "0                TOP9_CITY  1.198571e-02\n",
              "0                  CC_HOLD  4.683964e-01\n",
              "0            TRAVEL_MON_01  8.774445e-02"
            ]
          },
          "metadata": {
            "tags": []
          },
          "execution_count": 33
        }
      ]
    },
    {
      "cell_type": "code",
      "metadata": {
        "id": "MnO-UIhfxO6r",
        "colab_type": "code",
        "colab": {
          "base_uri": "https://localhost:8080/",
          "height": 107
        },
        "outputId": "5a2dacde-ef38-4a3e-ca21-2bc2aaca276e"
      },
      "source": [
        "from imblearn.over_sampling import SMOTE\n",
        "from sklearn.model_selection import train_test_split"
      ],
      "execution_count": 34,
      "outputs": [
        {
          "output_type": "stream",
          "text": [
            "/usr/local/lib/python3.6/dist-packages/sklearn/externals/six.py:31: FutureWarning: The module is deprecated in version 0.21 and will be removed in version 0.23 since we've dropped support for Python 2.7. Please rely on the official version of six (https://pypi.org/project/six/).\n",
            "  \"(https://pypi.org/project/six/).\", FutureWarning)\n",
            "/usr/local/lib/python3.6/dist-packages/sklearn/utils/deprecation.py:144: FutureWarning: The sklearn.neighbors.base module is  deprecated in version 0.22 and will be removed in version 0.24. The corresponding classes / functions should instead be imported from sklearn.neighbors. Anything that cannot be imported from sklearn.neighbors is now part of the private API.\n",
            "  warnings.warn(message, FutureWarning)\n"
          ],
          "name": "stderr"
        }
      ]
    },
    {
      "cell_type": "code",
      "metadata": {
        "id": "IXHG4ax_xO6w",
        "colab_type": "code",
        "colab": {}
      },
      "source": [
        "X_train,X_test,y_train,y_test=train_test_split(data_woe,df['TARGET'],test_size=.3)"
      ],
      "execution_count": 0,
      "outputs": []
    },
    {
      "cell_type": "code",
      "metadata": {
        "id": "rufQxJ7JxO63",
        "colab_type": "code",
        "colab": {
          "base_uri": "https://localhost:8080/",
          "height": 87
        },
        "outputId": "17c5d2a4-64cd-453a-a2fe-7cc8320b0c39"
      },
      "source": [
        "print(\"Number transactions X_train dataset: \", X_train.shape)\n",
        "print(\"Number transactions y_train dataset: \", y_train.shape)\n",
        "print(\"Number transactions X_test dataset: \", X_test.shape)\n",
        "print(\"Number transactions y_test dataset: \", y_test.shape)"
      ],
      "execution_count": 36,
      "outputs": [
        {
          "output_type": "stream",
          "text": [
            "Number transactions X_train dataset:  (210000, 43)\n",
            "Number transactions y_train dataset:  (210000,)\n",
            "Number transactions X_test dataset:  (90000, 43)\n",
            "Number transactions y_test dataset:  (90000,)\n"
          ],
          "name": "stdout"
        }
      ]
    },
    {
      "cell_type": "code",
      "metadata": {
        "id": "CKVZXJtZxO6-",
        "colab_type": "code",
        "colab": {
          "base_uri": "https://localhost:8080/",
          "height": 69
        },
        "outputId": "e0063302-e21d-44ff-a1ce-93762ffe37d2"
      },
      "source": [
        "print(\"Before OverSampling, counts of label '1': {}\".format(sum(y_train==1)))\n",
        "print(\"Before OverSampling, counts of label '0': {} \\n\".format(sum(y_train==0)))"
      ],
      "execution_count": 37,
      "outputs": [
        {
          "output_type": "stream",
          "text": [
            "Before OverSampling, counts of label '1': 3256\n",
            "Before OverSampling, counts of label '0': 206744 \n",
            "\n"
          ],
          "name": "stdout"
        }
      ]
    },
    {
      "cell_type": "code",
      "metadata": {
        "id": "ISIw9R6LxO7H",
        "colab_type": "code",
        "colab": {
          "base_uri": "https://localhost:8080/",
          "height": 884
        },
        "outputId": "3e892a08-c21e-4678-f71c-4d4073b9ce10"
      },
      "source": [
        "X_train.info()"
      ],
      "execution_count": 38,
      "outputs": [
        {
          "output_type": "stream",
          "text": [
            "<class 'pandas.core.frame.DataFrame'>\n",
            "Int64Index: 210000 entries, 135225 to 258385\n",
            "Data columns (total 43 columns):\n",
            " #   Column                   Non-Null Count   Dtype  \n",
            "---  ------                   --------------   -----  \n",
            " 0   AGE                      210000 non-null  float64\n",
            " 1   N_CASA_MAX_BALANCE_MTD   210000 non-null  float64\n",
            " 2   N_CASA_MIN_BALANCE_MTD   210000 non-null  float64\n",
            " 3   COC_ELIGIBLE             210000 non-null  float64\n",
            " 4   EOP_BAL_MON_01           210000 non-null  float64\n",
            " 5   AMB_MON_04               210000 non-null  float64\n",
            " 6   AMB_MON_01               210000 non-null  float64\n",
            " 7   AMB_MON_02               210000 non-null  float64\n",
            " 8   AMB_MON_03               210000 non-null  float64\n",
            " 9   PL2CC_ELIGIBLE           210000 non-null  float64\n",
            " 10  EOP_MON_02               210000 non-null  float64\n",
            " 11  EOP_MON_03               210000 non-null  float64\n",
            " 12  SCRUB_EMI                210000 non-null  float64\n",
            " 13  CARD_ENTMNT_MON_01       210000 non-null  float64\n",
            " 14  JOBS_MON_01              210000 non-null  float64\n",
            " 15  FINANCE_MON_01           210000 non-null  float64\n",
            " 16  CARD_HOTEL_MON_01        210000 non-null  float64\n",
            " 17  OCCUP_ALL_NEW            210000 non-null  float64\n",
            " 18  LIFESTYLE_MON_01         210000 non-null  float64\n",
            " 19  TPT_CC_CATEGORY_MON_01   210000 non-null  float64\n",
            " 20  ACT_TYPE                 210000 non-null  float64\n",
            " 21  CC_ACTIVE                210000 non-null  float64\n",
            " 22  NEFT_DC_CATEGORY         210000 non-null  float64\n",
            " 23  TOP_CORP_TAG             210000 non-null  float64\n",
            " 24  IMPS_CC_CATEGORY_MON_01  210000 non-null  float64\n",
            " 25  DC_HOLD                  210000 non-null  float64\n",
            " 26  CARD_JEWELLERY_MON_01    210000 non-null  float64\n",
            " 27  CARD_HOBBY_MON_01        210000 non-null  float64\n",
            " 28  CARD_MEDICAL_MON_01      210000 non-null  float64\n",
            " 29  TPT_DC_CATEGORY_MON_01   210000 non-null  float64\n",
            " 30  CHANNEL_CLICK_DISP       210000 non-null  float64\n",
            " 31  DC_ACTIVE                210000 non-null  float64\n",
            " 32  CARD_TRAVEL_MON_01       210000 non-null  float64\n",
            " 33  GENDER                   210000 non-null  float64\n",
            " 34  NEFT_CC_CATEGORY         210000 non-null  float64\n",
            " 35  TOP14_CITY               210000 non-null  float64\n",
            " 36  CARD_HOME_DECOR_MON_01   210000 non-null  float64\n",
            " 37  CARD_RESTAURANT_MON_01   210000 non-null  float64\n",
            " 38  CARD_PRSNL_CARE_MON_01   210000 non-null  float64\n",
            " 39  CARD_AUTOMOBILE_MON_01   210000 non-null  float64\n",
            " 40  TOP9_CITY                210000 non-null  float64\n",
            " 41  CC_HOLD                  210000 non-null  float64\n",
            " 42  TRAVEL_MON_01            210000 non-null  float64\n",
            "dtypes: float64(43)\n",
            "memory usage: 70.5 MB\n"
          ],
          "name": "stdout"
        }
      ]
    },
    {
      "cell_type": "code",
      "metadata": {
        "id": "kacA_LFyxO7L",
        "colab_type": "code",
        "colab": {
          "base_uri": "https://localhost:8080/",
          "height": 72
        },
        "outputId": "821db9da-2024-4a15-c022-b0a1186d22e8"
      },
      "source": [
        "sm = SMOTE(random_state=2)\n",
        "X_train_res, y_train_res = sm.fit_sample(X_train, y_train.ravel())"
      ],
      "execution_count": 39,
      "outputs": [
        {
          "output_type": "stream",
          "text": [
            "/usr/local/lib/python3.6/dist-packages/sklearn/utils/deprecation.py:87: FutureWarning: Function safe_indexing is deprecated; safe_indexing is deprecated in version 0.22 and will be removed in version 0.24.\n",
            "  warnings.warn(msg, category=FutureWarning)\n"
          ],
          "name": "stderr"
        }
      ]
    },
    {
      "cell_type": "code",
      "metadata": {
        "id": "5ZvYOgOIxO7P",
        "colab_type": "code",
        "colab": {
          "base_uri": "https://localhost:8080/",
          "height": 104
        },
        "outputId": "eebd0a3d-451a-4f08-8dd1-aabcff6b204a"
      },
      "source": [
        "\n",
        "print('After OverSampling, the shape of train_X: {}'.format(X_train_res.shape))\n",
        "print('After OverSampling, the shape of train_y: {} \\n'.format(y_train_res.shape))\n",
        "\n",
        "print(\"After OverSampling, counts of label '1': {}\".format(sum(y_train_res==1)))\n",
        "print(\"After OverSampling, counts of label '0': {}\".format(sum(y_train_res==0)))"
      ],
      "execution_count": 40,
      "outputs": [
        {
          "output_type": "stream",
          "text": [
            "After OverSampling, the shape of train_X: (413488, 43)\n",
            "After OverSampling, the shape of train_y: (413488,) \n",
            "\n",
            "After OverSampling, counts of label '1': 206744\n",
            "After OverSampling, counts of label '0': 206744\n"
          ],
          "name": "stdout"
        }
      ]
    },
    {
      "cell_type": "code",
      "metadata": {
        "id": "b9i1IlPIxO7e",
        "colab_type": "code",
        "colab": {}
      },
      "source": [
        "import itertools\n",
        "\n",
        "def plot_confusion_matrix(cm, classes,\n",
        "                          normalize=False,\n",
        "                          title='Confusion matrix',\n",
        "                          cmap=plt.cm.Blues):\n",
        "    \"\"\"\n",
        "    This function prints and plots the confusion matrix.\n",
        "    Normalization can be applied by setting `normalize=True`.\n",
        "    \"\"\"\n",
        "    plt.imshow(cm, interpolation='nearest', cmap=cmap)\n",
        "    plt.title(title)\n",
        "    plt.colorbar()\n",
        "    tick_marks = np.arange(len(classes))\n",
        "    plt.xticks(tick_marks, classes, rotation=0)\n",
        "    plt.yticks(tick_marks, classes)\n",
        "\n",
        "    if normalize:\n",
        "        cm = cm.astype('float') / cm.sum(axis=1)[:, np.newaxis]\n",
        "        #print(\"Normalized confusion matrix\")\n",
        "    else:\n",
        "        1#print('Confusion matrix, without normalization')\n",
        "\n",
        "    #print(cm)\n",
        "\n",
        "    thresh = cm.max() / 2.\n",
        "    for i, j in itertools.product(range(cm.shape[0]), range(cm.shape[1])):\n",
        "        plt.text(j, i, cm[i, j],\n",
        "                 horizontalalignment=\"center\",\n",
        "                 color=\"white\" if cm[i, j] > thresh else \"black\")\n",
        "\n",
        "    plt.tight_layout()\n",
        "    plt.ylabel('True label')\n",
        "    plt.xlabel('Predicted label')"
      ],
      "execution_count": 0,
      "outputs": []
    },
    {
      "cell_type": "code",
      "metadata": {
        "id": "ir0T4ecMxO7q",
        "colab_type": "code",
        "colab": {
          "base_uri": "https://localhost:8080/",
          "height": 35
        },
        "outputId": "336a53f3-a69b-4630-95bc-3d7fae794fef"
      },
      "source": [
        "#1. import the class/model\n",
        "from sklearn.ensemble import RandomForestClassifier\n",
        "#build the classifier\n",
        "\n",
        "clf = RandomForestClassifier()\n",
        "#train the classifier\n",
        "\n",
        "clf.fit(X_train_res, y_train_res.ravel())\n",
        "\n",
        "#test the classifier\n",
        "clf.predict(X_test)\n"
      ],
      "execution_count": 42,
      "outputs": [
        {
          "output_type": "execute_result",
          "data": {
            "text/plain": [
              "array([0, 0, 0, ..., 0, 0, 0])"
            ]
          },
          "metadata": {
            "tags": []
          },
          "execution_count": 42
        }
      ]
    },
    {
      "cell_type": "code",
      "metadata": {
        "id": "xEXZgB-_9B28",
        "colab_type": "code",
        "colab": {
          "base_uri": "https://localhost:8080/",
          "height": 780
        },
        "outputId": "40ea8823-7a6f-4dde-d694-60f801fb42e0"
      },
      "source": [
        "feature_imp = pd.Series(clf.feature_importances_,index=X_train.columns).sort_values(ascending=False)\n",
        "feature_imp\n"
      ],
      "execution_count": 43,
      "outputs": [
        {
          "output_type": "execute_result",
          "data": {
            "text/plain": [
              "N_CASA_MAX_BALANCE_MTD     0.090116\n",
              "AGE                        0.087527\n",
              "AMB_MON_04                 0.071222\n",
              "AMB_MON_03                 0.063015\n",
              "TOP14_CITY                 0.062745\n",
              "AMB_MON_01                 0.053913\n",
              "TOP9_CITY                  0.052972\n",
              "SCRUB_EMI                  0.050544\n",
              "AMB_MON_02                 0.045684\n",
              "EOP_BAL_MON_01             0.041797\n",
              "EOP_MON_02                 0.038841\n",
              "EOP_MON_03                 0.035563\n",
              "N_CASA_MIN_BALANCE_MTD     0.030462\n",
              "GENDER                     0.030276\n",
              "CC_ACTIVE                  0.026319\n",
              "CC_HOLD                    0.025065\n",
              "ACT_TYPE                   0.019685\n",
              "CHANNEL_CLICK_DISP         0.018844\n",
              "DC_ACTIVE                  0.015000\n",
              "COC_ELIGIBLE               0.014684\n",
              "FINANCE_MON_01             0.012860\n",
              "PL2CC_ELIGIBLE             0.012437\n",
              "TOP_CORP_TAG               0.011433\n",
              "NEFT_CC_CATEGORY           0.011037\n",
              "CARD_MEDICAL_MON_01        0.007383\n",
              "CARD_RESTAURANT_MON_01     0.007271\n",
              "TRAVEL_MON_01              0.006526\n",
              "CARD_ENTMNT_MON_01         0.006250\n",
              "NEFT_DC_CATEGORY           0.005524\n",
              "IMPS_CC_CATEGORY_MON_01    0.005377\n",
              "CARD_HOBBY_MON_01          0.005077\n",
              "CARD_TRAVEL_MON_01         0.004927\n",
              "CARD_HOTEL_MON_01          0.004345\n",
              "CARD_JEWELLERY_MON_01      0.004081\n",
              "TPT_CC_CATEGORY_MON_01     0.004003\n",
              "CARD_PRSNL_CARE_MON_01     0.003906\n",
              "TPT_DC_CATEGORY_MON_01     0.003595\n",
              "CARD_AUTOMOBILE_MON_01     0.003052\n",
              "LIFESTYLE_MON_01           0.002628\n",
              "DC_HOLD                    0.001981\n",
              "CARD_HOME_DECOR_MON_01     0.001461\n",
              "JOBS_MON_01                0.000568\n",
              "OCCUP_ALL_NEW              0.000000\n",
              "dtype: float64"
            ]
          },
          "metadata": {
            "tags": []
          },
          "execution_count": 43
        }
      ]
    },
    {
      "cell_type": "code",
      "metadata": {
        "id": "Siq66i8BGm19",
        "colab_type": "code",
        "colab": {}
      },
      "source": [
        "imp_var=['N_CASA_MAX_BALANCE_MTD',\n",
        "'AGE',\n",
        "'AMB_MON_04',\n",
        "'AMB_MON_03',\n",
        "'TOP14_CITY',\n",
        "'AMB_MON_01',\n",
        "'TOP9_CITY',\n",
        "'SCRUB_EMI',\n",
        "'AMB_MON_02',\n",
        "'EOP_BAL_MON_01',\n",
        "'EOP_MON_02',\n",
        "'EOP_MON_03',\n",
        "'N_CASA_MIN_BALANCE_MTD',\n",
        "'GENDER',\n",
        "'CC_ACTIVE',\n",
        "'CC_HOLD',\n",
        "'ACT_TYPE',\n",
        "'CHANNEL_CLICK_DISP',\n",
        "'DC_ACTIVE',\n",
        "'COC_ELIGIBLE',\n",
        "'FINANCE_MON_01',\n",
        "'PL2CC_ELIGIBLE'\n",
        "]"
      ],
      "execution_count": 0,
      "outputs": []
    },
    {
      "cell_type": "code",
      "metadata": {
        "colab_type": "code",
        "outputId": "083def9d-5dc3-40a4-de46-ca247faa615e",
        "id": "fcRuZA84oxoW",
        "colab": {
          "base_uri": "https://localhost:8080/",
          "height": 72
        }
      },
      "source": [
        "X_trainRF,X_testRF,y_trainRF,y_testRF=train_test_split(data_woe[imp_var],df['TARGET'],test_size=.3)\n",
        "X_trainRF_res, y_trainRF_res = sm.fit_sample(X_trainRF, y_trainRF.ravel())\n"
      ],
      "execution_count": 0,
      "outputs": [
        {
          "output_type": "stream",
          "text": [
            "/usr/local/lib/python3.6/dist-packages/sklearn/utils/deprecation.py:87: FutureWarning: Function safe_indexing is deprecated; safe_indexing is deprecated in version 0.22 and will be removed in version 0.24.\n",
            "  warnings.warn(msg, category=FutureWarning)\n"
          ],
          "name": "stderr"
        }
      ]
    },
    {
      "cell_type": "code",
      "metadata": {
        "colab_type": "code",
        "outputId": "c8d4dbb8-0696-44e2-bbec-08c3b140763d",
        "id": "3zBEmlY2owvM",
        "colab": {
          "base_uri": "https://localhost:8080/",
          "height": 104
        }
      },
      "source": [
        "from sklearn.linear_model import LogisticRegression\n",
        "from sklearn import metrics\n",
        "logreg = LogisticRegression()\n",
        "logreg.fit(X_trainRF_res, y_trainRF_res)"
      ],
      "execution_count": 78,
      "outputs": [
        {
          "output_type": "execute_result",
          "data": {
            "text/plain": [
              "LogisticRegression(C=1.0, class_weight=None, dual=False, fit_intercept=True,\n",
              "                   intercept_scaling=1, l1_ratio=None, max_iter=100,\n",
              "                   multi_class='auto', n_jobs=None, penalty='l2',\n",
              "                   random_state=None, solver='lbfgs', tol=0.0001, verbose=0,\n",
              "                   warm_start=False)"
            ]
          },
          "metadata": {
            "tags": []
          },
          "execution_count": 78
        }
      ]
    },
    {
      "cell_type": "code",
      "metadata": {
        "id": "EqfOyoH3puNQ",
        "colab_type": "code",
        "colab": {
          "base_uri": "https://localhost:8080/",
          "height": 329
        },
        "outputId": "862b5d98-1471-4d6b-9348-4447aa1b70bf"
      },
      "source": [
        "\n",
        "cnf_matrix = confusion_matrix(y_testRF, logreg.predict(X_testRF))\n",
        "\n",
        "print(\"Recall metric in the testing dataset: {}%\".format(100*cnf_matrix[1,1]/(cnf_matrix[1,0]+cnf_matrix[1,1])))\n",
        "# Plot non-normalized confusion matrix\n",
        "class_names = [0,1]\n",
        "plt.figure()\n",
        "plot_confusion_matrix(cnf_matrix , classes=class_names, title='Confusion matrix')\n",
        "plt.show()"
      ],
      "execution_count": 79,
      "outputs": [
        {
          "output_type": "stream",
          "text": [
            "Recall metric in the testing dataset: 76.56695156695157%\n"
          ],
          "name": "stdout"
        },
        {
          "output_type": "display_data",
          "data": {
            "image/png": "[encoded data removed]",
            "text/plain": [
              "<Figure size 432x288 with 2 Axes>"
            ]
          },
          "metadata": {
            "tags": []
          }
        }
      ]
    },
    {
      "cell_type": "code",
      "metadata": {
        "id": "IHu92tViqQL4",
        "colab_type": "code",
        "colab": {
          "base_uri": "https://localhost:8080/",
          "height": 173
        },
        "outputId": "752143fe-eb34-4282-dba4-04395ad0a277"
      },
      "source": [
        "\n",
        "y_predRF = logreg.predict(X_testRF)\n",
        "from sklearn.metrics import classification_report\n",
        "print(classification_report(y_testRF, y_predRF))"
      ],
      "execution_count": 80,
      "outputs": [
        {
          "output_type": "stream",
          "text": [
            "              precision    recall  f1-score   support\n",
            "\n",
            "           0       0.99      0.70      0.82     88596\n",
            "           1       0.04      0.77      0.07      1404\n",
            "\n",
            "    accuracy                           0.70     90000\n",
            "   macro avg       0.52      0.73      0.45     90000\n",
            "weighted avg       0.98      0.70      0.81     90000\n",
            "\n"
          ],
          "name": "stdout"
        }
      ]
    },
    {
      "cell_type": "code",
      "metadata": {
        "id": "PbDx555KqzP9",
        "colab_type": "code",
        "colab": {}
      },
      "source": [
        "#For RF Change Catogrical variable to WOE and Numerical with Satandard Scalar\n",
        "def WOE(var):\n",
        "    df[var] = df[var].fillna('NoData')\n",
        "    k = df[[var,'TARGET']].groupby(var)['TARGET'].agg(['count','sum']).reset_index()\n",
        "    k.columns = [var,'Count','Good']\n",
        "    k['Bad'] = k['Count'] - k['Good']\n",
        "    k['Good %'] = (k['Good'] / k['Good'].sum()*100)+0.5\n",
        "    k['Bad %'] = (k['Bad'] / k['Bad'].sum()*100)+0.5\n",
        "    k[var+'_WOE'] = np.log(k['Good %'] / k['Bad %'])\n",
        "    k = k.sort_values(by=var+'_WOE')\n",
        "    df2 = pd.merge(df[['TARGET',var]],k[[var,var+'_WOE']],\n",
        "    left_on=var,\n",
        "    right_on=var,how='left')\n",
        "    return(df2)\n"
      ],
      "execution_count": 0,
      "outputs": []
    },
    {
      "cell_type": "code",
      "metadata": {
        "id": "16qUxVVxrpnf",
        "colab_type": "code",
        "colab": {}
      },
      "source": [
        "df2=pd.DataFrame()\n",
        "df2['TARGET']=df['TARGET']"
      ],
      "execution_count": 0,
      "outputs": []
    },
    {
      "cell_type": "code",
      "metadata": {
        "id": "_xi4pDzVruFn",
        "colab_type": "code",
        "colab": {
          "base_uri": "https://localhost:8080/",
          "height": 537
        },
        "outputId": "c55659f7-f747-4f71-a56a-6ef6b62364d5"
      },
      "source": [
        "for i in cat_cols:\n",
        "    print (i)\n",
        "    df2=pd.concat([df2, WOE(i)], axis=1)\n",
        "df4=df2.filter(regex='WOE')"
      ],
      "execution_count": 83,
      "outputs": [
        {
          "output_type": "stream",
          "text": [
            "CARD_ENTMNT_MON_01\n",
            "JOBS_MON_01\n",
            "FINANCE_MON_01\n",
            "CARD_HOTEL_MON_01\n",
            "OCCUP_ALL_NEW\n",
            "LIFESTYLE_MON_01\n",
            "TPT_CC_CATEGORY_MON_01\n",
            "ACT_TYPE\n",
            "CC_ACTIVE\n",
            "NEFT_DC_CATEGORY\n",
            "TOP_CORP_TAG\n",
            "IMPS_CC_CATEGORY_MON_01\n",
            "DC_HOLD\n",
            "CARD_JEWELLERY_MON_01\n",
            "CARD_HOBBY_MON_01\n",
            "CARD_MEDICAL_MON_01\n",
            "TPT_DC_CATEGORY_MON_01\n",
            "CHANNEL_CLICK_DISP\n",
            "DC_ACTIVE\n",
            "CARD_TRAVEL_MON_01\n",
            "GENDER\n",
            "NEFT_CC_CATEGORY\n",
            "TOP14_CITY\n",
            "CARD_HOME_DECOR_MON_01\n",
            "CARD_RESTAURANT_MON_01\n",
            "CARD_PRSNL_CARE_MON_01\n",
            "CARD_AUTOMOBILE_MON_01\n",
            "TOP9_CITY\n",
            "CC_HOLD\n",
            "TRAVEL_MON_01\n"
          ],
          "name": "stdout"
        }
      ]
    },
    {
      "cell_type": "code",
      "metadata": {
        "id": "JUel1qter9bR",
        "colab_type": "code",
        "colab": {}
      },
      "source": [
        "df3=df[num_cols]\n",
        "from sklearn.preprocessing import StandardScaler\n",
        "scaler = StandardScaler()\n",
        "scaled_data = scaler.fit_transform(df3)\n",
        "scaled_features_df = pd.DataFrame(scaled_data, index=df3.index, columns=df3.columns)"
      ],
      "execution_count": 0,
      "outputs": []
    },
    {
      "cell_type": "code",
      "metadata": {
        "id": "TzvgxnuOsPJQ",
        "colab_type": "code",
        "colab": {}
      },
      "source": [
        "Df_Model=pd.DataFrame()\n",
        "Df_Model=pd.concat([scaled_features_df,df4],axis=1)"
      ],
      "execution_count": 0,
      "outputs": []
    },
    {
      "cell_type": "code",
      "metadata": {
        "id": "Ffk-IiCqsZPo",
        "colab_type": "code",
        "colab": {}
      },
      "source": [
        "X_trainRFM,X_testRFM,y_trainRFM,y_testRFM=train_test_split(Df_Model,df['TARGET'],test_size=.3)"
      ],
      "execution_count": 0,
      "outputs": []
    },
    {
      "cell_type": "code",
      "metadata": {
        "id": "V7jfC_Tfsm_Y",
        "colab_type": "code",
        "colab": {
          "base_uri": "https://localhost:8080/",
          "height": 159
        },
        "outputId": "cb0b4d94-3a28-4720-f21f-cb6fddf499b8"
      },
      "source": [
        "X_trainRFM_res, y_trainRFM_res = sm.fit_sample(X_trainRFM, y_trainRFM.ravel())\n",
        "print('After OverSampling, the shape of train_X: {}'.format(X_trainRFM_res.shape))\n",
        "print('After OverSampling, the shape of train_y: {} \\n'.format(y_trainRFM_res.shape))\n",
        "\n",
        "print(\"After OverSampling, counts of label '1': {}\".format(sum(y_trainRFM_res==1)))\n",
        "print(\"After OverSampling, counts of label '0': {}\".format(sum(y_trainRFM_res==0)))"
      ],
      "execution_count": 88,
      "outputs": [
        {
          "output_type": "stream",
          "text": [
            "/usr/local/lib/python3.6/dist-packages/sklearn/utils/deprecation.py:87: FutureWarning: Function safe_indexing is deprecated; safe_indexing is deprecated in version 0.22 and will be removed in version 0.24.\n",
            "  warnings.warn(msg, category=FutureWarning)\n"
          ],
          "name": "stderr"
        },
        {
          "output_type": "stream",
          "text": [
            "After OverSampling, the shape of train_X: (413460, 43)\n",
            "After OverSampling, the shape of train_y: (413460,) \n",
            "\n",
            "After OverSampling, counts of label '1': 206730\n",
            "After OverSampling, counts of label '0': 206730\n"
          ],
          "name": "stdout"
        }
      ]
    },
    {
      "cell_type": "code",
      "metadata": {
        "id": "AGdwDlv7Cdy5",
        "colab_type": "code",
        "colab": {
          "base_uri": "https://localhost:8080/",
          "height": 156
        },
        "outputId": "fb23e226-1fe7-4764-ca4c-d47e866f213c"
      },
      "source": [
        "clf.fit(X_trainRFM_res, y_trainRFM_res.ravel())\n"
      ],
      "execution_count": 95,
      "outputs": [
        {
          "output_type": "execute_result",
          "data": {
            "text/plain": [
              "RandomForestClassifier(bootstrap=True, ccp_alpha=0.0, class_weight=None,\n",
              "                       criterion='gini', max_depth=None, max_features='auto',\n",
              "                       max_leaf_nodes=None, max_samples=None,\n",
              "                       min_impurity_decrease=0.0, min_impurity_split=None,\n",
              "                       min_samples_leaf=1, min_samples_split=2,\n",
              "                       min_weight_fraction_leaf=0.0, n_estimators=100,\n",
              "                       n_jobs=None, oob_score=False, random_state=None,\n",
              "                       verbose=0, warm_start=False)"
            ]
          },
          "metadata": {
            "tags": []
          },
          "execution_count": 95
        }
      ]
    },
    {
      "cell_type": "code",
      "metadata": {
        "id": "9iUR60jqtdf_",
        "colab_type": "code",
        "colab": {
          "base_uri": "https://localhost:8080/",
          "height": 780
        },
        "outputId": "f388b9b7-91f0-40a3-ac35-2e844a727e2b"
      },
      "source": [
        "feature_imp = pd.Series(clf.feature_importances_,index=X_trainRFM.columns).sort_values(ascending=False)\n",
        "feature_imp"
      ],
      "execution_count": 99,
      "outputs": [
        {
          "output_type": "execute_result",
          "data": {
            "text/plain": [
              "TOP9_CITY_WOE                  0.077127\n",
              "TOP14_CITY_WOE                 0.074938\n",
              "SCRUB_EMI                      0.071146\n",
              "AMB_MON_04                     0.058338\n",
              "AGE                            0.047664\n",
              "N_CASA_MAX_BALANCE_MTD         0.045362\n",
              "ACT_TYPE_WOE                   0.039810\n",
              "N_CASA_MIN_BALANCE_MTD         0.039123\n",
              "AMB_MON_03                     0.037893\n",
              "GENDER_WOE                     0.036805\n",
              "AMB_MON_01                     0.035172\n",
              "AMB_MON_02                     0.035100\n",
              "CC_ACTIVE_WOE                  0.034123\n",
              "CHANNEL_CLICK_DISP_WOE         0.030956\n",
              "EOP_MON_02                     0.028658\n",
              "EOP_BAL_MON_01                 0.028226\n",
              "DC_ACTIVE_WOE                  0.026822\n",
              "EOP_MON_03                     0.025529\n",
              "NEFT_CC_CATEGORY_WOE           0.023465\n",
              "TOP_CORP_TAG_WOE               0.021409\n",
              "CC_HOLD_WOE                    0.016509\n",
              "FINANCE_MON_01_WOE             0.016035\n",
              "CARD_MEDICAL_MON_01_WOE        0.015145\n",
              "IMPS_CC_CATEGORY_MON_01_WOE    0.012864\n",
              "CARD_RESTAURANT_MON_01_WOE     0.012478\n",
              "NEFT_DC_CATEGORY_WOE           0.011440\n",
              "TRAVEL_MON_01_WOE              0.010904\n",
              "CARD_ENTMNT_MON_01_WOE         0.010744\n",
              "CARD_HOBBY_MON_01_WOE          0.008616\n",
              "TPT_DC_CATEGORY_MON_01_WOE     0.008290\n",
              "CARD_TRAVEL_MON_01_WOE         0.008192\n",
              "TPT_CC_CATEGORY_MON_01_WOE     0.007909\n",
              "CARD_JEWELLERY_MON_01_WOE      0.007451\n",
              "CARD_PRSNL_CARE_MON_01_WOE     0.007221\n",
              "CARD_HOTEL_MON_01_WOE          0.006955\n",
              "CARD_AUTOMOBILE_MON_01_WOE     0.005387\n",
              "COC_ELIGIBLE                   0.004104\n",
              "LIFESTYLE_MON_01_WOE           0.003856\n",
              "DC_HOLD_WOE                    0.003069\n",
              "PL2CC_ELIGIBLE                 0.002429\n",
              "CARD_HOME_DECOR_MON_01_WOE     0.002192\n",
              "JOBS_MON_01_WOE                0.000543\n",
              "OCCUP_ALL_NEW_WOE              0.000000\n",
              "dtype: float64"
            ]
          },
          "metadata": {
            "tags": []
          },
          "execution_count": 99
        }
      ]
    },
    {
      "cell_type": "code",
      "metadata": {
        "id": "rjTL0ls3xJrJ",
        "colab_type": "code",
        "colab": {}
      },
      "source": [
        "impRFM=['TOP9_CITY_WOE','TOP14_CITY_WOE','SCRUB_EMI','AMB_MON_04','AGE','N_CASA_MAX_BALANCE_MTD','ACT_TYPE_WOE','N_CASA_MIN_BALANCE_MTD',\n",
        "'AMB_MON_03','GENDER_WOE','AMB_MON_01','AMB_MON_02','CC_ACTIVE_WOE','CHANNEL_CLICK_DISP_WOE','EOP_MON_02','EOP_BAL_MON_01',\n",
        "'DC_ACTIVE_WOE','EOP_MON_03','NEFT_CC_CATEGORY_WOE','TOP_CORP_TAG_WOE','CC_HOLD_WOE','FINANCE_MON_01_WOE','CARD_MEDICAL_MON_01_WOE','IMPS_CC_CATEGORY_MON_01_WOE',\n",
        "'CARD_RESTAURANT_MON_01_WOE','NEFT_DC_CATEGORY_WOE']\n"
      ],
      "execution_count": 0,
      "outputs": []
    },
    {
      "cell_type": "code",
      "metadata": {
        "id": "Wte7Vb20xuci",
        "colab_type": "code",
        "colab": {
          "base_uri": "https://localhost:8080/",
          "height": 297
        },
        "outputId": "f2d4fc1d-ec77-47b4-cda2-2b5e3b78d20f"
      },
      "source": [
        "\n",
        "X_trainRFM2,X_testRFM2,y_trainRFM2,y_testRFM2=train_test_split(Df_Model[impRFM],df['TARGET'],test_size=.3)\n",
        "X_trainRFM2_res, y_trainRFM2_res = sm.fit_sample(X_trainRFM2, y_trainRFM2.ravel())\n",
        "print('After OverSampling, the shape of train_X: {}'.format(X_trainRFM2_res.shape))\n",
        "print('After OverSampling, the shape of train_y: {} \\n'.format(y_trainRFM2_res.shape))\n",
        "\n",
        "print(\"After OverSampling, counts of label '1': {}\".format(sum(y_trainRFM2_res==1)))\n",
        "print(\"After OverSampling, counts of label '0': {}\".format(sum(y_trainRFM2_res==0)))\n",
        "\n",
        "clf.fit(X_trainRFM2_res, y_trainRFM2_res.ravel())\n"
      ],
      "execution_count": 102,
      "outputs": [
        {
          "output_type": "stream",
          "text": [
            "/usr/local/lib/python3.6/dist-packages/sklearn/utils/deprecation.py:87: FutureWarning: Function safe_indexing is deprecated; safe_indexing is deprecated in version 0.22 and will be removed in version 0.24.\n",
            "  warnings.warn(msg, category=FutureWarning)\n"
          ],
          "name": "stderr"
        },
        {
          "output_type": "stream",
          "text": [
            "After OverSampling, the shape of train_X: (413646, 26)\n",
            "After OverSampling, the shape of train_y: (413646,) \n",
            "\n",
            "After OverSampling, counts of label '1': 206823\n",
            "After OverSampling, counts of label '0': 206823\n"
          ],
          "name": "stdout"
        },
        {
          "output_type": "execute_result",
          "data": {
            "text/plain": [
              "RandomForestClassifier(bootstrap=True, ccp_alpha=0.0, class_weight=None,\n",
              "                       criterion='gini', max_depth=None, max_features='auto',\n",
              "                       max_leaf_nodes=None, max_samples=None,\n",
              "                       min_impurity_decrease=0.0, min_impurity_split=None,\n",
              "                       min_samples_leaf=1, min_samples_split=2,\n",
              "                       min_weight_fraction_leaf=0.0, n_estimators=100,\n",
              "                       n_jobs=None, oob_score=False, random_state=None,\n",
              "                       verbose=0, warm_start=False)"
            ]
          },
          "metadata": {
            "tags": []
          },
          "execution_count": 102
        }
      ]
    },
    {
      "cell_type": "code",
      "metadata": {
        "id": "MhhYMoo7t80X",
        "colab_type": "code",
        "colab": {
          "base_uri": "https://localhost:8080/",
          "height": 52
        },
        "outputId": "4711ff09-1897-4c4a-a47a-1b1e752f13a2"
      },
      "source": [
        "\n",
        "cnf_matrix = confusion_matrix(y_testRFM2, clf.predict(X_testRFM2))\n",
        "cnf_matrix"
      ],
      "execution_count": 103,
      "outputs": [
        {
          "output_type": "execute_result",
          "data": {
            "text/plain": [
              "array([[88155,   410],\n",
              "       [ 1406,    29]])"
            ]
          },
          "metadata": {
            "tags": []
          },
          "execution_count": 103
        }
      ]
    },
    {
      "cell_type": "code",
      "metadata": {
        "id": "CejSYrXJtobm",
        "colab_type": "code",
        "colab": {
          "base_uri": "https://localhost:8080/",
          "height": 329
        },
        "outputId": "ec0a3d20-07a5-48e6-aad3-4bcc21732623"
      },
      "source": [
        "\n",
        "cnf_matrix = confusion_matrix(y_testRFM2, clf.predict(X_testRFM2))\n",
        "\n",
        "print(\"Recall metric in the testing dataset: {}%\".format(100*cnf_matrix[1,1]/(cnf_matrix[1,0]+cnf_matrix[1,1])))\n",
        "# Plot non-normalized confusion matrix\n",
        "class_names = [0,1]\n",
        "plt.figure()\n",
        "plot_confusion_matrix(cnf_matrix , classes=class_names, title='Confusion matrix')\n",
        "plt.show()"
      ],
      "execution_count": 105,
      "outputs": [
        {
          "output_type": "stream",
          "text": [
            "Recall metric in the testing dataset: 2.0209059233449476%\n"
          ],
          "name": "stdout"
        },
        {
          "output_type": "display_data",
          "data": {
            "image/png": "[encoded data removed]",
            "text/plain": [
              "<Figure size 432x288 with 2 Axes>"
            ]
          },
          "metadata": {
            "tags": []
          }
        }
      ]
    },
    {
      "cell_type": "code",
      "metadata": {
        "id": "C7qhhTutuofn",
        "colab_type": "code",
        "colab": {
          "base_uri": "https://localhost:8080/",
          "height": 363
        },
        "outputId": "8911c47d-6ed7-4d31-cc6e-c8166043bfe9"
      },
      "source": [
        ""
      ],
      "execution_count": 106,
      "outputs": [
        {
          "output_type": "error",
          "ename": "NotFittedError",
          "evalue": "ignored",
          "traceback": [
            "\u001b[0;31m---------------------------------------------------------------------------\u001b[0m",
            "\u001b[0;31mNotFittedError\u001b[0m                            Traceback (most recent call last)",
            "\u001b[0;32m<ipython-input-106-14f716fd8264>\u001b[0m in \u001b[0;36m<module>\u001b[0;34m()\u001b[0m\n\u001b[1;32m      1\u001b[0m \u001b[0;34m\u001b[0m\u001b[0m\n\u001b[0;32m----> 2\u001b[0;31m \u001b[0my_predRFM\u001b[0m \u001b[0;34m=\u001b[0m \u001b[0mclr\u001b[0m\u001b[0;34m.\u001b[0m\u001b[0mpredict\u001b[0m\u001b[0;34m(\u001b[0m\u001b[0mX_testRFM2\u001b[0m\u001b[0;34m)\u001b[0m\u001b[0;34m\u001b[0m\u001b[0;34m\u001b[0m\u001b[0m\n\u001b[0m\u001b[1;32m      3\u001b[0m \u001b[0;32mfrom\u001b[0m \u001b[0msklearn\u001b[0m\u001b[0;34m.\u001b[0m\u001b[0mmetrics\u001b[0m \u001b[0;32mimport\u001b[0m \u001b[0mclassification_report\u001b[0m\u001b[0;34m\u001b[0m\u001b[0;34m\u001b[0m\u001b[0m\n\u001b[1;32m      4\u001b[0m \u001b[0mprint\u001b[0m\u001b[0;34m(\u001b[0m\u001b[0mclassification_report\u001b[0m\u001b[0;34m(\u001b[0m\u001b[0my_testRFM\u001b[0m\u001b[0;34m,\u001b[0m \u001b[0my_predRFM\u001b[0m\u001b[0;34m)\u001b[0m\u001b[0;34m)\u001b[0m\u001b[0;34m\u001b[0m\u001b[0;34m\u001b[0m\u001b[0m\n",
            "\u001b[0;32m/usr/local/lib/python3.6/dist-packages/sklearn/ensemble/_forest.py\u001b[0m in \u001b[0;36mpredict\u001b[0;34m(self, X)\u001b[0m\n\u001b[1;32m    610\u001b[0m             \u001b[0mThe\u001b[0m \u001b[0mpredicted\u001b[0m \u001b[0mclasses\u001b[0m\u001b[0;34m.\u001b[0m\u001b[0;34m\u001b[0m\u001b[0;34m\u001b[0m\u001b[0m\n\u001b[1;32m    611\u001b[0m         \"\"\"\n\u001b[0;32m--> 612\u001b[0;31m         \u001b[0mproba\u001b[0m \u001b[0;34m=\u001b[0m \u001b[0mself\u001b[0m\u001b[0;34m.\u001b[0m\u001b[0mpredict_proba\u001b[0m\u001b[0;34m(\u001b[0m\u001b[0mX\u001b[0m\u001b[0;34m)\u001b[0m\u001b[0;34m\u001b[0m\u001b[0;34m\u001b[0m\u001b[0m\n\u001b[0m\u001b[1;32m    613\u001b[0m \u001b[0;34m\u001b[0m\u001b[0m\n\u001b[1;32m    614\u001b[0m         \u001b[0;32mif\u001b[0m \u001b[0mself\u001b[0m\u001b[0;34m.\u001b[0m\u001b[0mn_outputs_\u001b[0m \u001b[0;34m==\u001b[0m \u001b[0;36m1\u001b[0m\u001b[0;34m:\u001b[0m\u001b[0;34m\u001b[0m\u001b[0;34m\u001b[0m\u001b[0m\n",
            "\u001b[0;32m/usr/local/lib/python3.6/dist-packages/sklearn/ensemble/_forest.py\u001b[0m in \u001b[0;36mpredict_proba\u001b[0;34m(self, X)\u001b[0m\n\u001b[1;32m    652\u001b[0m             \u001b[0mclasses\u001b[0m \u001b[0mcorresponds\u001b[0m \u001b[0mto\u001b[0m \u001b[0mthat\u001b[0m \u001b[0;32min\u001b[0m \u001b[0mthe\u001b[0m \u001b[0mattribute\u001b[0m \u001b[0;34m:\u001b[0m\u001b[0mterm\u001b[0m\u001b[0;34m:\u001b[0m\u001b[0;31m`\u001b[0m\u001b[0mclasses_\u001b[0m\u001b[0;31m`\u001b[0m\u001b[0;34m.\u001b[0m\u001b[0;34m\u001b[0m\u001b[0;34m\u001b[0m\u001b[0m\n\u001b[1;32m    653\u001b[0m         \"\"\"\n\u001b[0;32m--> 654\u001b[0;31m         \u001b[0mcheck_is_fitted\u001b[0m\u001b[0;34m(\u001b[0m\u001b[0mself\u001b[0m\u001b[0;34m)\u001b[0m\u001b[0;34m\u001b[0m\u001b[0;34m\u001b[0m\u001b[0m\n\u001b[0m\u001b[1;32m    655\u001b[0m         \u001b[0;31m# Check data\u001b[0m\u001b[0;34m\u001b[0m\u001b[0;34m\u001b[0m\u001b[0;34m\u001b[0m\u001b[0m\n\u001b[1;32m    656\u001b[0m         \u001b[0mX\u001b[0m \u001b[0;34m=\u001b[0m \u001b[0mself\u001b[0m\u001b[0;34m.\u001b[0m\u001b[0m_validate_X_predict\u001b[0m\u001b[0;34m(\u001b[0m\u001b[0mX\u001b[0m\u001b[0;34m)\u001b[0m\u001b[0;34m\u001b[0m\u001b[0;34m\u001b[0m\u001b[0m\n",
            "\u001b[0;32m/usr/local/lib/python3.6/dist-packages/sklearn/utils/validation.py\u001b[0m in \u001b[0;36mcheck_is_fitted\u001b[0;34m(estimator, attributes, msg, all_or_any)\u001b[0m\n\u001b[1;32m    965\u001b[0m \u001b[0;34m\u001b[0m\u001b[0m\n\u001b[1;32m    966\u001b[0m     \u001b[0;32mif\u001b[0m \u001b[0;32mnot\u001b[0m \u001b[0mattrs\u001b[0m\u001b[0;34m:\u001b[0m\u001b[0;34m\u001b[0m\u001b[0;34m\u001b[0m\u001b[0m\n\u001b[0;32m--> 967\u001b[0;31m         \u001b[0;32mraise\u001b[0m \u001b[0mNotFittedError\u001b[0m\u001b[0;34m(\u001b[0m\u001b[0mmsg\u001b[0m \u001b[0;34m%\u001b[0m \u001b[0;34m{\u001b[0m\u001b[0;34m'name'\u001b[0m\u001b[0;34m:\u001b[0m \u001b[0mtype\u001b[0m\u001b[0;34m(\u001b[0m\u001b[0mestimator\u001b[0m\u001b[0;34m)\u001b[0m\u001b[0;34m.\u001b[0m\u001b[0m__name__\u001b[0m\u001b[0;34m}\u001b[0m\u001b[0;34m)\u001b[0m\u001b[0;34m\u001b[0m\u001b[0;34m\u001b[0m\u001b[0m\n\u001b[0m\u001b[1;32m    968\u001b[0m \u001b[0;34m\u001b[0m\u001b[0m\n\u001b[1;32m    969\u001b[0m \u001b[0;34m\u001b[0m\u001b[0m\n",
            "\u001b[0;31mNotFittedError\u001b[0m: This RandomForestClassifier instance is not fitted yet. Call 'fit' with appropriate arguments before using this estimator."
          ]
        }
      ]
    },
    {
      "cell_type": "code",
      "metadata": {
        "id": "ppjjpTv5BRh4",
        "colab_type": "code",
        "colab": {}
      },
      "source": [
        "from sklearn.model_selection import GridSearchCV\n",
        "# Create the parameter grid based on the results of random search \n",
        "param_grid = {\n",
        "    'max_depth': [80, 90, 100],\n",
        "    'max_features': [10,15,20],\n",
        "    'n_estimators': [100, 200, 300, 1000]\n",
        "}\n",
        "# Create a based model\n",
        "clr=RandomForestClassifier()\n",
        "# Instantiate the grid search model\n",
        "grid_search = GridSearchCV(estimator = clr, param_grid = param_grid, \n",
        "                          cv = 3, n_jobs = -1, verbose = 2)"
      ],
      "execution_count": 0,
      "outputs": []
    },
    {
      "cell_type": "code",
      "metadata": {
        "id": "sOn_QuBOzRMH",
        "colab_type": "code",
        "colab": {
          "base_uri": "https://localhost:8080/",
          "height": 52
        },
        "outputId": "000f2923-fa30-43fc-ebbd-d888e8a216f9"
      },
      "source": [
        "# Fit the grid search to the data\n",
        "grid_search.fit(X_trainRFM2_res, y_trainRFM2_res.ravel())\n"
      ],
      "execution_count": 0,
      "outputs": [
        {
          "output_type": "stream",
          "text": [
            "Fitting 3 folds for each of 36 candidates, totalling 108 fits\n"
          ],
          "name": "stdout"
        },
        {
          "output_type": "stream",
          "text": [
            "[Parallel(n_jobs=-1)]: Using backend LokyBackend with 2 concurrent workers.\n"
          ],
          "name": "stderr"
        }
      ]
    },
    {
      "cell_type": "code",
      "metadata": {
        "id": "fQmTjmi2ZLrO",
        "colab_type": "code",
        "colab": {
          "base_uri": "https://localhost:8080/",
          "height": 329
        },
        "outputId": "a1baed16-358e-4385-d78a-454dc0103521"
      },
      "source": [
        "cnf_matrix = confusion_matrix(y_testRF, clf.predict(X_testRF))\n",
        "\n",
        "print(\"Recall metric in the testing dataset: {}%\".format(100*cnf_matrix[1,1]/(cnf_matrix[1,0]+cnf_matrix[1,1])))\n",
        "# Plot non-normalized confusion matrix\n",
        "class_names = [0,1]\n",
        "plt.figure()\n",
        "plot_confusion_matrix(cnf_matrix , classes=class_names, title='Confusion matrix')\n",
        "plt.show()"
      ],
      "execution_count": 75,
      "outputs": [
        {
          "output_type": "stream",
          "text": [
            "Recall metric in the testing dataset: 0.21367521367521367%\n"
          ],
          "name": "stdout"
        },
        {
          "output_type": "display_data",
          "data": {
            "image/png": "[encoded data removed]",
            "text/plain": [
              "<Figure size 432x288 with 2 Axes>"
            ]
          },
          "metadata": {
            "tags": []
          }
        }
      ]
    },
    {
      "cell_type": "code",
      "metadata": {
        "id": "aIgmKoV6xO7x",
        "colab_type": "code",
        "colab": {}
      },
      "source": [
        "from sklearn.model_selection import cross_val_score\n",
        "from numpy import mean\n",
        "from sklearn.model_selection import RepeatedStratifiedKFold\n",
        "from xgboost import XGBClassifier\n",
        "# generate dataset"
      ],
      "execution_count": 0,
      "outputs": []
    },
    {
      "cell_type": "code",
      "metadata": {
        "id": "uz0ll-BDxO72",
        "colab_type": "code",
        "colab": {}
      },
      "source": [
        "model = XGBClassifier()\n",
        "\n",
        "# define evaluation procedure\n",
        "cv = RepeatedStratifiedKFold(n_splits=10, n_repeats=3, random_state=1)\n",
        "# evaluate model\n",
        "scores = cross_val_score(model, X_train_res, y_train_res.ravel(), scoring='recall', cv=cv, n_jobs=-1)\n",
        "# summarize performance\n",
        "print('Mean Recall: %.5f' % mean(scores))"
      ],
      "execution_count": 0,
      "outputs": []
    },
    {
      "cell_type": "code",
      "metadata": {
        "id": "VyD4aTAhxO77",
        "colab_type": "code",
        "colab": {}
      },
      "source": [
        ""
      ],
      "execution_count": 0,
      "outputs": []
    }
  ]
}